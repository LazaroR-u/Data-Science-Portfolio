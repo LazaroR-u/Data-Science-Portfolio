{
  "nbformat": 4,
  "nbformat_minor": 0,
  "metadata": {
    "kernelspec": {
      "display_name": "Python (data_science)",
      "language": "python",
      "name": "data_science"
    },
    "language_info": {
      "codemirror_mode": {
        "name": "ipython",
        "version": 3
      },
      "file_extension": ".py",
      "mimetype": "text/x-python",
      "name": "python",
      "nbconvert_exporter": "python",
      "pygments_lexer": "ipython3",
      "version": "3.7.6"
    },
    "colab": {
      "name": "S7_reto1_pruebas_ab.ipynb",
      "provenance": [],
      "collapsed_sections": []
    }
  },
  "cells": [
    {
      "cell_type": "markdown",
      "metadata": {
        "id": "0-J1JlI8GMlR"
      },
      "source": [
        "## Reto 1: Pruebas A/B\n",
        "\n",
        "### 1. Objetivos:\n",
        "    - Practicar evaluar los resultados de una Prueba A/B\n",
        " \n",
        "---\n",
        "    \n",
        "### 2. Desarrollo:"
      ]
    },
    {
      "cell_type": "markdown",
      "metadata": {
        "id": "jvy8x0JeGMlV"
      },
      "source": [
        "### a) Evaluando una prueba A/B de flujo de ventas\n",
        "\n",
        "El archivo 'ab_test-sales_pipeline-2' tiene datos muy similares a los que vimos en el último ejemplo. Estamos evaluando dos flujos de ventas distintos: A y B. Cada vez que alguien compró el producto gracias a uno de los dos flujos, se registró como un `1` en la columna `conversion` y un `0` en la columna `no conversion`.\n",
        "\n",
        "Evalúa la prueba A/B para saber si los resultados obtenidos son estadísticamente significativos. El Reto consiste en los siguientes pasos:\n",
        "\n",
        "1. Primero cuantifica cuál de los flujos de ventas fue más efectivo y en qué proporción.\n",
        "2. Después aplica el test de permutación:\n",
        "    1. Combina los resultados de ambos grupos en un mismo conjunto de datos\n",
        "    2. Revuelve los datos\n",
        "    3. Usando muestreo aleatorio sin reposición, construye un nuevo grupo A del mismo tamaño que el original.\n",
        "    4. El resto de los datos conforman nuestro nuevo grupo B.\n",
        "    5. Cuantifica la métrica o estadística que calculaste con los grupos originales y guarda el resultado.\n",
        "    6. Repite los pasos 1-5 `R` veces para obtener una distribución de la estadística de interés.\n",
        "3. Grafica tus resultados en un histograma y grafica una línea vertical que marque el resultado del experimento.\n",
        "4. Cuantifica el Valor P y evalúa la significación estadística con un Alfa de 0.05 (5%).\n",
        "5. Comenta tus hallazgos con tus compañeros y la experta."
      ]
    },
    {
      "cell_type": "code",
      "metadata": {
        "id": "JxLokZlfGMlW"
      },
      "source": [
        "import pandas as pd\n",
        "import seaborn as sns\n",
        "import matplotlib.pyplot as plt"
      ],
      "execution_count": null,
      "outputs": []
    },
    {
      "cell_type": "code",
      "metadata": {
        "id": "AIC0bsKuGerk",
        "colab": {
          "base_uri": "https://localhost:8080/"
        },
        "outputId": "7a96332d-204f-4b66-e0f6-31f38520cd24"
      },
      "source": [
        "from google.colab import drive\n",
        "drive.mount('/content/drive')"
      ],
      "execution_count": null,
      "outputs": [
        {
          "output_type": "stream",
          "name": "stdout",
          "text": [
            "Mounted at /content/drive\n"
          ]
        }
      ]
    },
    {
      "cell_type": "code",
      "metadata": {
        "id": "6MSLQhVZGbMI",
        "colab": {
          "base_uri": "https://localhost:8080/",
          "height": 419
        },
        "outputId": "85425be0-887d-4bb8-860f-18e5a5ca03fe"
      },
      "source": [
        "df = pd.read_csv('/content/drive/MyDrive/BEDU_DS/FASE_3/Remoto Datasets/Remoto ab_test-sales_pipeline-2.csv')\n",
        "\n",
        "df"
      ],
      "execution_count": null,
      "outputs": [
        {
          "output_type": "execute_result",
          "data": {
            "text/html": [
              "<div>\n",
              "<style scoped>\n",
              "    .dataframe tbody tr th:only-of-type {\n",
              "        vertical-align: middle;\n",
              "    }\n",
              "\n",
              "    .dataframe tbody tr th {\n",
              "        vertical-align: top;\n",
              "    }\n",
              "\n",
              "    .dataframe thead th {\n",
              "        text-align: right;\n",
              "    }\n",
              "</style>\n",
              "<table border=\"1\" class=\"dataframe\">\n",
              "  <thead>\n",
              "    <tr style=\"text-align: right;\">\n",
              "      <th></th>\n",
              "      <th>test</th>\n",
              "      <th>conversion</th>\n",
              "      <th>no conversion</th>\n",
              "    </tr>\n",
              "  </thead>\n",
              "  <tbody>\n",
              "    <tr>\n",
              "      <th>0</th>\n",
              "      <td>A</td>\n",
              "      <td>0</td>\n",
              "      <td>1</td>\n",
              "    </tr>\n",
              "    <tr>\n",
              "      <th>1</th>\n",
              "      <td>B</td>\n",
              "      <td>0</td>\n",
              "      <td>1</td>\n",
              "    </tr>\n",
              "    <tr>\n",
              "      <th>2</th>\n",
              "      <td>A</td>\n",
              "      <td>0</td>\n",
              "      <td>1</td>\n",
              "    </tr>\n",
              "    <tr>\n",
              "      <th>3</th>\n",
              "      <td>A</td>\n",
              "      <td>0</td>\n",
              "      <td>1</td>\n",
              "    </tr>\n",
              "    <tr>\n",
              "      <th>4</th>\n",
              "      <td>B</td>\n",
              "      <td>0</td>\n",
              "      <td>1</td>\n",
              "    </tr>\n",
              "    <tr>\n",
              "      <th>...</th>\n",
              "      <td>...</td>\n",
              "      <td>...</td>\n",
              "      <td>...</td>\n",
              "    </tr>\n",
              "    <tr>\n",
              "      <th>76322</th>\n",
              "      <td>B</td>\n",
              "      <td>0</td>\n",
              "      <td>1</td>\n",
              "    </tr>\n",
              "    <tr>\n",
              "      <th>76323</th>\n",
              "      <td>A</td>\n",
              "      <td>0</td>\n",
              "      <td>1</td>\n",
              "    </tr>\n",
              "    <tr>\n",
              "      <th>76324</th>\n",
              "      <td>B</td>\n",
              "      <td>0</td>\n",
              "      <td>1</td>\n",
              "    </tr>\n",
              "    <tr>\n",
              "      <th>76325</th>\n",
              "      <td>B</td>\n",
              "      <td>1</td>\n",
              "      <td>0</td>\n",
              "    </tr>\n",
              "    <tr>\n",
              "      <th>76326</th>\n",
              "      <td>B</td>\n",
              "      <td>0</td>\n",
              "      <td>1</td>\n",
              "    </tr>\n",
              "  </tbody>\n",
              "</table>\n",
              "<p>76327 rows × 3 columns</p>\n",
              "</div>"
            ],
            "text/plain": [
              "      test  conversion  no conversion\n",
              "0        A           0              1\n",
              "1        B           0              1\n",
              "2        A           0              1\n",
              "3        A           0              1\n",
              "4        B           0              1\n",
              "...    ...         ...            ...\n",
              "76322    B           0              1\n",
              "76323    A           0              1\n",
              "76324    B           0              1\n",
              "76325    B           1              0\n",
              "76326    B           0              1\n",
              "\n",
              "[76327 rows x 3 columns]"
            ]
          },
          "metadata": {},
          "execution_count": 3
        }
      ]
    },
    {
      "cell_type": "code",
      "metadata": {
        "id": "Z3hxe3QuGbJm",
        "colab": {
          "base_uri": "https://localhost:8080/",
          "height": 142
        },
        "outputId": "95f6a124-40c4-4b5c-aac5-1b762aef9251"
      },
      "source": [
        "total_count=df.groupby(\"test\")[[\"conversion\", \"no conversion\"]].sum()\n",
        "total_count"
      ],
      "execution_count": null,
      "outputs": [
        {
          "output_type": "execute_result",
          "data": {
            "text/html": [
              "<div>\n",
              "<style scoped>\n",
              "    .dataframe tbody tr th:only-of-type {\n",
              "        vertical-align: middle;\n",
              "    }\n",
              "\n",
              "    .dataframe tbody tr th {\n",
              "        vertical-align: top;\n",
              "    }\n",
              "\n",
              "    .dataframe thead th {\n",
              "        text-align: right;\n",
              "    }\n",
              "</style>\n",
              "<table border=\"1\" class=\"dataframe\">\n",
              "  <thead>\n",
              "    <tr style=\"text-align: right;\">\n",
              "      <th></th>\n",
              "      <th>conversion</th>\n",
              "      <th>no conversion</th>\n",
              "    </tr>\n",
              "    <tr>\n",
              "      <th>test</th>\n",
              "      <th></th>\n",
              "      <th></th>\n",
              "    </tr>\n",
              "  </thead>\n",
              "  <tbody>\n",
              "    <tr>\n",
              "      <th>A</th>\n",
              "      <td>4163</td>\n",
              "      <td>30576</td>\n",
              "    </tr>\n",
              "    <tr>\n",
              "      <th>B</th>\n",
              "      <td>4841</td>\n",
              "      <td>36747</td>\n",
              "    </tr>\n",
              "  </tbody>\n",
              "</table>\n",
              "</div>"
            ],
            "text/plain": [
              "      conversion  no conversion\n",
              "test                           \n",
              "A           4163          30576\n",
              "B           4841          36747"
            ]
          },
          "metadata": {},
          "execution_count": 6
        }
      ]
    },
    {
      "cell_type": "code",
      "metadata": {
        "id": "odWSyw4aGbGa",
        "colab": {
          "base_uri": "https://localhost:8080/",
          "height": 142
        },
        "outputId": "c74c4ae3-7a16-4a89-ac63-19b2f92802e7"
      },
      "source": [
        "total_count[\"success rate\"] = total_count[\"conversion\"]/(total_count[\"conversion\"]+total_count[\"no conversion\"])\n",
        "total_count"
      ],
      "execution_count": null,
      "outputs": [
        {
          "output_type": "execute_result",
          "data": {
            "text/html": [
              "<div>\n",
              "<style scoped>\n",
              "    .dataframe tbody tr th:only-of-type {\n",
              "        vertical-align: middle;\n",
              "    }\n",
              "\n",
              "    .dataframe tbody tr th {\n",
              "        vertical-align: top;\n",
              "    }\n",
              "\n",
              "    .dataframe thead th {\n",
              "        text-align: right;\n",
              "    }\n",
              "</style>\n",
              "<table border=\"1\" class=\"dataframe\">\n",
              "  <thead>\n",
              "    <tr style=\"text-align: right;\">\n",
              "      <th></th>\n",
              "      <th>conversion</th>\n",
              "      <th>no conversion</th>\n",
              "      <th>success rate</th>\n",
              "    </tr>\n",
              "    <tr>\n",
              "      <th>test</th>\n",
              "      <th></th>\n",
              "      <th></th>\n",
              "      <th></th>\n",
              "    </tr>\n",
              "  </thead>\n",
              "  <tbody>\n",
              "    <tr>\n",
              "      <th>A</th>\n",
              "      <td>4163</td>\n",
              "      <td>30576</td>\n",
              "      <td>0.119836</td>\n",
              "    </tr>\n",
              "    <tr>\n",
              "      <th>B</th>\n",
              "      <td>4841</td>\n",
              "      <td>36747</td>\n",
              "      <td>0.116404</td>\n",
              "    </tr>\n",
              "  </tbody>\n",
              "</table>\n",
              "</div>"
            ],
            "text/plain": [
              "      conversion  no conversion  success rate\n",
              "test                                         \n",
              "A           4163          30576      0.119836\n",
              "B           4841          36747      0.116404"
            ]
          },
          "metadata": {},
          "execution_count": 7
        }
      ]
    },
    {
      "cell_type": "code",
      "metadata": {
        "id": "hRftz7nzGbDr",
        "colab": {
          "base_uri": "https://localhost:8080/"
        },
        "outputId": "2b4e6401-f89b-4c44-bee5-d5273c90e550"
      },
      "source": [
        "diff_prueba= 1 - (total_count.loc[\"B\"][\"success rate\"] / total_count.loc[\"A\"][\"success rate\"])\n",
        "diff_prueba"
      ],
      "execution_count": null,
      "outputs": [
        {
          "output_type": "execute_result",
          "data": {
            "text/plain": [
              "0.028645069159369485"
            ]
          },
          "metadata": {},
          "execution_count": 8
        }
      ]
    },
    {
      "cell_type": "code",
      "metadata": {
        "id": "VOQjCn93GbCH"
      },
      "source": [
        ""
      ],
      "execution_count": null,
      "outputs": []
    },
    {
      "cell_type": "markdown",
      "metadata": {
        "id": "hfD6R3PPI3v4"
      },
      "source": [
        "mezclamos las mediciones del test A y el B en el mismo DataFrame."
      ]
    },
    {
      "cell_type": "code",
      "metadata": {
        "id": "VcHXM5iEGa_L",
        "colab": {
          "base_uri": "https://localhost:8080/",
          "height": 419
        },
        "outputId": "8788e0bc-42a2-4d0a-c065-9a130cb2d564"
      },
      "source": [
        "all_measurements = df[['conversion', 'no conversion']]\n",
        "all_measurements"
      ],
      "execution_count": null,
      "outputs": [
        {
          "output_type": "execute_result",
          "data": {
            "text/html": [
              "<div>\n",
              "<style scoped>\n",
              "    .dataframe tbody tr th:only-of-type {\n",
              "        vertical-align: middle;\n",
              "    }\n",
              "\n",
              "    .dataframe tbody tr th {\n",
              "        vertical-align: top;\n",
              "    }\n",
              "\n",
              "    .dataframe thead th {\n",
              "        text-align: right;\n",
              "    }\n",
              "</style>\n",
              "<table border=\"1\" class=\"dataframe\">\n",
              "  <thead>\n",
              "    <tr style=\"text-align: right;\">\n",
              "      <th></th>\n",
              "      <th>conversion</th>\n",
              "      <th>no conversion</th>\n",
              "    </tr>\n",
              "  </thead>\n",
              "  <tbody>\n",
              "    <tr>\n",
              "      <th>0</th>\n",
              "      <td>0</td>\n",
              "      <td>1</td>\n",
              "    </tr>\n",
              "    <tr>\n",
              "      <th>1</th>\n",
              "      <td>0</td>\n",
              "      <td>1</td>\n",
              "    </tr>\n",
              "    <tr>\n",
              "      <th>2</th>\n",
              "      <td>0</td>\n",
              "      <td>1</td>\n",
              "    </tr>\n",
              "    <tr>\n",
              "      <th>3</th>\n",
              "      <td>0</td>\n",
              "      <td>1</td>\n",
              "    </tr>\n",
              "    <tr>\n",
              "      <th>4</th>\n",
              "      <td>0</td>\n",
              "      <td>1</td>\n",
              "    </tr>\n",
              "    <tr>\n",
              "      <th>...</th>\n",
              "      <td>...</td>\n",
              "      <td>...</td>\n",
              "    </tr>\n",
              "    <tr>\n",
              "      <th>76322</th>\n",
              "      <td>0</td>\n",
              "      <td>1</td>\n",
              "    </tr>\n",
              "    <tr>\n",
              "      <th>76323</th>\n",
              "      <td>0</td>\n",
              "      <td>1</td>\n",
              "    </tr>\n",
              "    <tr>\n",
              "      <th>76324</th>\n",
              "      <td>0</td>\n",
              "      <td>1</td>\n",
              "    </tr>\n",
              "    <tr>\n",
              "      <th>76325</th>\n",
              "      <td>1</td>\n",
              "      <td>0</td>\n",
              "    </tr>\n",
              "    <tr>\n",
              "      <th>76326</th>\n",
              "      <td>0</td>\n",
              "      <td>1</td>\n",
              "    </tr>\n",
              "  </tbody>\n",
              "</table>\n",
              "<p>76327 rows × 2 columns</p>\n",
              "</div>"
            ],
            "text/plain": [
              "       conversion  no conversion\n",
              "0               0              1\n",
              "1               0              1\n",
              "2               0              1\n",
              "3               0              1\n",
              "4               0              1\n",
              "...           ...            ...\n",
              "76322           0              1\n",
              "76323           0              1\n",
              "76324           0              1\n",
              "76325           1              0\n",
              "76326           0              1\n",
              "\n",
              "[76327 rows x 2 columns]"
            ]
          },
          "metadata": {},
          "execution_count": 11
        }
      ]
    },
    {
      "cell_type": "code",
      "metadata": {
        "id": "6ki0ZizcGa8g",
        "colab": {
          "base_uri": "https://localhost:8080/"
        },
        "outputId": "74abda69-f4e8-485c-de89-0e382973ad23"
      },
      "source": [
        "value_counts = df['test'].value_counts()\n",
        "\n",
        "value_counts"
      ],
      "execution_count": null,
      "outputs": [
        {
          "output_type": "execute_result",
          "data": {
            "text/plain": [
              "B    41588\n",
              "A    34739\n",
              "Name: test, dtype: int64"
            ]
          },
          "metadata": {},
          "execution_count": 10
        }
      ]
    },
    {
      "cell_type": "code",
      "metadata": {
        "id": "Txs22ohUGa6K"
      },
      "source": [
        ""
      ],
      "execution_count": null,
      "outputs": []
    },
    {
      "cell_type": "markdown",
      "metadata": {
        "id": "EQrpwCsFI3tG"
      },
      "source": [
        "Ahora vamos a aplicar el resto del algoritmo del test de permutación:\n",
        "\n",
        "1.   Usando muestreo aleatorio sin reposición, construye un nuevo grupo A del mismo tamaño que el original.\n",
        "2.   El resto de los datos conforman nuestro nuevo grupo B.\n",
        "3.   Cuantifica la métrica o estadística que calculaste con los grupos originales y guarda el resultado.\n",
        "4.   Repite los pasos 1-5 R veces para obtener una distribución de la estadística de interés.\n",
        "\n",
        "\n",
        "\n",
        "\n",
        "\n",
        "\n",
        "\n"
      ]
    },
    {
      "cell_type": "code",
      "metadata": {
        "id": "nz_khyxWGa3o"
      },
      "source": [
        "conv_a = []\n",
        "no_conv_a = []\n",
        "conv_b = []\n",
        "no_conv_b = []\n",
        "\n",
        "for _ in range(1000):\n",
        "    a = df.sample(value_counts.loc['A'], replace=False)\n",
        "    conv_a.append(a['conversion'].sum())\n",
        "    no_conv_a.append(a['no conversion'].sum())\n",
        "    \n",
        "    b = df.loc[~df.index.isin(a.index)] #todos los elementos que no estan en el indice de a\n",
        "    conv_b.append(b['conversion'].sum()) \n",
        "    no_conv_b.append(b['no conversion'].sum())"
      ],
      "execution_count": null,
      "outputs": []
    },
    {
      "cell_type": "code",
      "metadata": {
        "id": "a-XwMI4JGa1V",
        "colab": {
          "base_uri": "https://localhost:8080/",
          "height": 419
        },
        "outputId": "6a212711-0e0b-4a9d-b474-d29ebe7b1fc3"
      },
      "source": [
        "perm_results = pd.DataFrame({\n",
        "    'conv_a': conv_a,\n",
        "    'no_conv_a': no_conv_a,\n",
        "    'conv_b': conv_b,\n",
        "    'no_conv_b': no_conv_b\n",
        "})\n",
        "\n",
        "perm_results"
      ],
      "execution_count": null,
      "outputs": [
        {
          "output_type": "execute_result",
          "data": {
            "text/html": [
              "<div>\n",
              "<style scoped>\n",
              "    .dataframe tbody tr th:only-of-type {\n",
              "        vertical-align: middle;\n",
              "    }\n",
              "\n",
              "    .dataframe tbody tr th {\n",
              "        vertical-align: top;\n",
              "    }\n",
              "\n",
              "    .dataframe thead th {\n",
              "        text-align: right;\n",
              "    }\n",
              "</style>\n",
              "<table border=\"1\" class=\"dataframe\">\n",
              "  <thead>\n",
              "    <tr style=\"text-align: right;\">\n",
              "      <th></th>\n",
              "      <th>conv_a</th>\n",
              "      <th>no_conv_a</th>\n",
              "      <th>conv_b</th>\n",
              "      <th>no_conv_b</th>\n",
              "    </tr>\n",
              "  </thead>\n",
              "  <tbody>\n",
              "    <tr>\n",
              "      <th>0</th>\n",
              "      <td>4076</td>\n",
              "      <td>30663</td>\n",
              "      <td>4928</td>\n",
              "      <td>36660</td>\n",
              "    </tr>\n",
              "    <tr>\n",
              "      <th>1</th>\n",
              "      <td>4033</td>\n",
              "      <td>30706</td>\n",
              "      <td>4971</td>\n",
              "      <td>36617</td>\n",
              "    </tr>\n",
              "    <tr>\n",
              "      <th>2</th>\n",
              "      <td>4071</td>\n",
              "      <td>30668</td>\n",
              "      <td>4933</td>\n",
              "      <td>36655</td>\n",
              "    </tr>\n",
              "    <tr>\n",
              "      <th>3</th>\n",
              "      <td>4005</td>\n",
              "      <td>30734</td>\n",
              "      <td>4999</td>\n",
              "      <td>36589</td>\n",
              "    </tr>\n",
              "    <tr>\n",
              "      <th>4</th>\n",
              "      <td>4166</td>\n",
              "      <td>30573</td>\n",
              "      <td>4838</td>\n",
              "      <td>36750</td>\n",
              "    </tr>\n",
              "    <tr>\n",
              "      <th>...</th>\n",
              "      <td>...</td>\n",
              "      <td>...</td>\n",
              "      <td>...</td>\n",
              "      <td>...</td>\n",
              "    </tr>\n",
              "    <tr>\n",
              "      <th>995</th>\n",
              "      <td>4109</td>\n",
              "      <td>30630</td>\n",
              "      <td>4895</td>\n",
              "      <td>36693</td>\n",
              "    </tr>\n",
              "    <tr>\n",
              "      <th>996</th>\n",
              "      <td>4115</td>\n",
              "      <td>30624</td>\n",
              "      <td>4889</td>\n",
              "      <td>36699</td>\n",
              "    </tr>\n",
              "    <tr>\n",
              "      <th>997</th>\n",
              "      <td>4130</td>\n",
              "      <td>30609</td>\n",
              "      <td>4874</td>\n",
              "      <td>36714</td>\n",
              "    </tr>\n",
              "    <tr>\n",
              "      <th>998</th>\n",
              "      <td>4026</td>\n",
              "      <td>30713</td>\n",
              "      <td>4978</td>\n",
              "      <td>36610</td>\n",
              "    </tr>\n",
              "    <tr>\n",
              "      <th>999</th>\n",
              "      <td>4091</td>\n",
              "      <td>30648</td>\n",
              "      <td>4913</td>\n",
              "      <td>36675</td>\n",
              "    </tr>\n",
              "  </tbody>\n",
              "</table>\n",
              "<p>1000 rows × 4 columns</p>\n",
              "</div>"
            ],
            "text/plain": [
              "     conv_a  no_conv_a  conv_b  no_conv_b\n",
              "0      4076      30663    4928      36660\n",
              "1      4033      30706    4971      36617\n",
              "2      4071      30668    4933      36655\n",
              "3      4005      30734    4999      36589\n",
              "4      4166      30573    4838      36750\n",
              "..      ...        ...     ...        ...\n",
              "995    4109      30630    4895      36693\n",
              "996    4115      30624    4889      36699\n",
              "997    4130      30609    4874      36714\n",
              "998    4026      30713    4978      36610\n",
              "999    4091      30648    4913      36675\n",
              "\n",
              "[1000 rows x 4 columns]"
            ]
          },
          "metadata": {},
          "execution_count": 13
        }
      ]
    },
    {
      "cell_type": "code",
      "metadata": {
        "id": "MsrZ63BBKAsd"
      },
      "source": [
        "perm_results['a_conv_rate'] = perm_results['conv_a'] / (perm_results['conv_a'] + perm_results['no_conv_a'])\n",
        "perm_results['b_conv_rate'] = perm_results['conv_b'] / (perm_results['conv_b'] + perm_results['no_conv_b'])"
      ],
      "execution_count": null,
      "outputs": []
    },
    {
      "cell_type": "code",
      "metadata": {
        "id": "5a7wBCcFKApq",
        "colab": {
          "base_uri": "https://localhost:8080/",
          "height": 419
        },
        "outputId": "ee7c32fb-5bf9-4e7b-9448-4aaa0e52dd85"
      },
      "source": [
        "perm_results"
      ],
      "execution_count": null,
      "outputs": [
        {
          "output_type": "execute_result",
          "data": {
            "text/html": [
              "<div>\n",
              "<style scoped>\n",
              "    .dataframe tbody tr th:only-of-type {\n",
              "        vertical-align: middle;\n",
              "    }\n",
              "\n",
              "    .dataframe tbody tr th {\n",
              "        vertical-align: top;\n",
              "    }\n",
              "\n",
              "    .dataframe thead th {\n",
              "        text-align: right;\n",
              "    }\n",
              "</style>\n",
              "<table border=\"1\" class=\"dataframe\">\n",
              "  <thead>\n",
              "    <tr style=\"text-align: right;\">\n",
              "      <th></th>\n",
              "      <th>conv_a</th>\n",
              "      <th>no_conv_a</th>\n",
              "      <th>conv_b</th>\n",
              "      <th>no_conv_b</th>\n",
              "      <th>a_conv_rate</th>\n",
              "      <th>b_conv_rate</th>\n",
              "      <th>diff</th>\n",
              "    </tr>\n",
              "  </thead>\n",
              "  <tbody>\n",
              "    <tr>\n",
              "      <th>0</th>\n",
              "      <td>4076</td>\n",
              "      <td>30663</td>\n",
              "      <td>4928</td>\n",
              "      <td>36660</td>\n",
              "      <td>0.117332</td>\n",
              "      <td>0.118496</td>\n",
              "      <td>-0.009917</td>\n",
              "    </tr>\n",
              "    <tr>\n",
              "      <th>1</th>\n",
              "      <td>4033</td>\n",
              "      <td>30706</td>\n",
              "      <td>4971</td>\n",
              "      <td>36617</td>\n",
              "      <td>0.116094</td>\n",
              "      <td>0.119530</td>\n",
              "      <td>-0.029591</td>\n",
              "    </tr>\n",
              "    <tr>\n",
              "      <th>2</th>\n",
              "      <td>4071</td>\n",
              "      <td>30668</td>\n",
              "      <td>4933</td>\n",
              "      <td>36655</td>\n",
              "      <td>0.117188</td>\n",
              "      <td>0.118616</td>\n",
              "      <td>-0.012184</td>\n",
              "    </tr>\n",
              "    <tr>\n",
              "      <th>3</th>\n",
              "      <td>4005</td>\n",
              "      <td>30734</td>\n",
              "      <td>4999</td>\n",
              "      <td>36589</td>\n",
              "      <td>0.115288</td>\n",
              "      <td>0.120203</td>\n",
              "      <td>-0.042629</td>\n",
              "    </tr>\n",
              "    <tr>\n",
              "      <th>4</th>\n",
              "      <td>4166</td>\n",
              "      <td>30573</td>\n",
              "      <td>4838</td>\n",
              "      <td>36750</td>\n",
              "      <td>0.119923</td>\n",
              "      <td>0.116332</td>\n",
              "      <td>0.029946</td>\n",
              "    </tr>\n",
              "    <tr>\n",
              "      <th>...</th>\n",
              "      <td>...</td>\n",
              "      <td>...</td>\n",
              "      <td>...</td>\n",
              "      <td>...</td>\n",
              "      <td>...</td>\n",
              "      <td>...</td>\n",
              "      <td>...</td>\n",
              "    </tr>\n",
              "    <tr>\n",
              "      <th>995</th>\n",
              "      <td>4109</td>\n",
              "      <td>30630</td>\n",
              "      <td>4895</td>\n",
              "      <td>36693</td>\n",
              "      <td>0.118282</td>\n",
              "      <td>0.117702</td>\n",
              "      <td>0.004902</td>\n",
              "    </tr>\n",
              "    <tr>\n",
              "      <th>996</th>\n",
              "      <td>4115</td>\n",
              "      <td>30624</td>\n",
              "      <td>4889</td>\n",
              "      <td>36699</td>\n",
              "      <td>0.118455</td>\n",
              "      <td>0.117558</td>\n",
              "      <td>0.007571</td>\n",
              "    </tr>\n",
              "    <tr>\n",
              "      <th>997</th>\n",
              "      <td>4130</td>\n",
              "      <td>30609</td>\n",
              "      <td>4874</td>\n",
              "      <td>36714</td>\n",
              "      <td>0.118887</td>\n",
              "      <td>0.117197</td>\n",
              "      <td>0.014209</td>\n",
              "    </tr>\n",
              "    <tr>\n",
              "      <th>998</th>\n",
              "      <td>4026</td>\n",
              "      <td>30713</td>\n",
              "      <td>4978</td>\n",
              "      <td>36610</td>\n",
              "      <td>0.115893</td>\n",
              "      <td>0.119698</td>\n",
              "      <td>-0.032834</td>\n",
              "    </tr>\n",
              "    <tr>\n",
              "      <th>999</th>\n",
              "      <td>4091</td>\n",
              "      <td>30648</td>\n",
              "      <td>4913</td>\n",
              "      <td>36675</td>\n",
              "      <td>0.117764</td>\n",
              "      <td>0.118135</td>\n",
              "      <td>-0.003152</td>\n",
              "    </tr>\n",
              "  </tbody>\n",
              "</table>\n",
              "<p>1000 rows × 7 columns</p>\n",
              "</div>"
            ],
            "text/plain": [
              "     conv_a  no_conv_a  conv_b  no_conv_b  a_conv_rate  b_conv_rate      diff\n",
              "0      4076      30663    4928      36660     0.117332     0.118496 -0.009917\n",
              "1      4033      30706    4971      36617     0.116094     0.119530 -0.029591\n",
              "2      4071      30668    4933      36655     0.117188     0.118616 -0.012184\n",
              "3      4005      30734    4999      36589     0.115288     0.120203 -0.042629\n",
              "4      4166      30573    4838      36750     0.119923     0.116332  0.029946\n",
              "..      ...        ...     ...        ...          ...          ...       ...\n",
              "995    4109      30630    4895      36693     0.118282     0.117702  0.004902\n",
              "996    4115      30624    4889      36699     0.118455     0.117558  0.007571\n",
              "997    4130      30609    4874      36714     0.118887     0.117197  0.014209\n",
              "998    4026      30713    4978      36610     0.115893     0.119698 -0.032834\n",
              "999    4091      30648    4913      36675     0.117764     0.118135 -0.003152\n",
              "\n",
              "[1000 rows x 7 columns]"
            ]
          },
          "metadata": {},
          "execution_count": 20
        }
      ]
    },
    {
      "cell_type": "code",
      "metadata": {
        "id": "l2hwGgQQKAnB",
        "colab": {
          "base_uri": "https://localhost:8080/",
          "height": 419
        },
        "outputId": "d182e002-1480-479d-eff5-730efb8fa5c1"
      },
      "source": [
        "perm_results['diff'] = 1 - (perm_results['b_conv_rate'] / perm_results['a_conv_rate'])\n",
        "\n",
        "perm_results"
      ],
      "execution_count": null,
      "outputs": [
        {
          "output_type": "execute_result",
          "data": {
            "text/html": [
              "<div>\n",
              "<style scoped>\n",
              "    .dataframe tbody tr th:only-of-type {\n",
              "        vertical-align: middle;\n",
              "    }\n",
              "\n",
              "    .dataframe tbody tr th {\n",
              "        vertical-align: top;\n",
              "    }\n",
              "\n",
              "    .dataframe thead th {\n",
              "        text-align: right;\n",
              "    }\n",
              "</style>\n",
              "<table border=\"1\" class=\"dataframe\">\n",
              "  <thead>\n",
              "    <tr style=\"text-align: right;\">\n",
              "      <th></th>\n",
              "      <th>conv_a</th>\n",
              "      <th>no_conv_a</th>\n",
              "      <th>conv_b</th>\n",
              "      <th>no_conv_b</th>\n",
              "      <th>a_conv_rate</th>\n",
              "      <th>b_conv_rate</th>\n",
              "      <th>diff</th>\n",
              "    </tr>\n",
              "  </thead>\n",
              "  <tbody>\n",
              "    <tr>\n",
              "      <th>0</th>\n",
              "      <td>4076</td>\n",
              "      <td>30663</td>\n",
              "      <td>4928</td>\n",
              "      <td>36660</td>\n",
              "      <td>0.117332</td>\n",
              "      <td>0.118496</td>\n",
              "      <td>-0.009917</td>\n",
              "    </tr>\n",
              "    <tr>\n",
              "      <th>1</th>\n",
              "      <td>4033</td>\n",
              "      <td>30706</td>\n",
              "      <td>4971</td>\n",
              "      <td>36617</td>\n",
              "      <td>0.116094</td>\n",
              "      <td>0.119530</td>\n",
              "      <td>-0.029591</td>\n",
              "    </tr>\n",
              "    <tr>\n",
              "      <th>2</th>\n",
              "      <td>4071</td>\n",
              "      <td>30668</td>\n",
              "      <td>4933</td>\n",
              "      <td>36655</td>\n",
              "      <td>0.117188</td>\n",
              "      <td>0.118616</td>\n",
              "      <td>-0.012184</td>\n",
              "    </tr>\n",
              "    <tr>\n",
              "      <th>3</th>\n",
              "      <td>4005</td>\n",
              "      <td>30734</td>\n",
              "      <td>4999</td>\n",
              "      <td>36589</td>\n",
              "      <td>0.115288</td>\n",
              "      <td>0.120203</td>\n",
              "      <td>-0.042629</td>\n",
              "    </tr>\n",
              "    <tr>\n",
              "      <th>4</th>\n",
              "      <td>4166</td>\n",
              "      <td>30573</td>\n",
              "      <td>4838</td>\n",
              "      <td>36750</td>\n",
              "      <td>0.119923</td>\n",
              "      <td>0.116332</td>\n",
              "      <td>0.029946</td>\n",
              "    </tr>\n",
              "    <tr>\n",
              "      <th>...</th>\n",
              "      <td>...</td>\n",
              "      <td>...</td>\n",
              "      <td>...</td>\n",
              "      <td>...</td>\n",
              "      <td>...</td>\n",
              "      <td>...</td>\n",
              "      <td>...</td>\n",
              "    </tr>\n",
              "    <tr>\n",
              "      <th>995</th>\n",
              "      <td>4109</td>\n",
              "      <td>30630</td>\n",
              "      <td>4895</td>\n",
              "      <td>36693</td>\n",
              "      <td>0.118282</td>\n",
              "      <td>0.117702</td>\n",
              "      <td>0.004902</td>\n",
              "    </tr>\n",
              "    <tr>\n",
              "      <th>996</th>\n",
              "      <td>4115</td>\n",
              "      <td>30624</td>\n",
              "      <td>4889</td>\n",
              "      <td>36699</td>\n",
              "      <td>0.118455</td>\n",
              "      <td>0.117558</td>\n",
              "      <td>0.007571</td>\n",
              "    </tr>\n",
              "    <tr>\n",
              "      <th>997</th>\n",
              "      <td>4130</td>\n",
              "      <td>30609</td>\n",
              "      <td>4874</td>\n",
              "      <td>36714</td>\n",
              "      <td>0.118887</td>\n",
              "      <td>0.117197</td>\n",
              "      <td>0.014209</td>\n",
              "    </tr>\n",
              "    <tr>\n",
              "      <th>998</th>\n",
              "      <td>4026</td>\n",
              "      <td>30713</td>\n",
              "      <td>4978</td>\n",
              "      <td>36610</td>\n",
              "      <td>0.115893</td>\n",
              "      <td>0.119698</td>\n",
              "      <td>-0.032834</td>\n",
              "    </tr>\n",
              "    <tr>\n",
              "      <th>999</th>\n",
              "      <td>4091</td>\n",
              "      <td>30648</td>\n",
              "      <td>4913</td>\n",
              "      <td>36675</td>\n",
              "      <td>0.117764</td>\n",
              "      <td>0.118135</td>\n",
              "      <td>-0.003152</td>\n",
              "    </tr>\n",
              "  </tbody>\n",
              "</table>\n",
              "<p>1000 rows × 7 columns</p>\n",
              "</div>"
            ],
            "text/plain": [
              "     conv_a  no_conv_a  conv_b  no_conv_b  a_conv_rate  b_conv_rate      diff\n",
              "0      4076      30663    4928      36660     0.117332     0.118496 -0.009917\n",
              "1      4033      30706    4971      36617     0.116094     0.119530 -0.029591\n",
              "2      4071      30668    4933      36655     0.117188     0.118616 -0.012184\n",
              "3      4005      30734    4999      36589     0.115288     0.120203 -0.042629\n",
              "4      4166      30573    4838      36750     0.119923     0.116332  0.029946\n",
              "..      ...        ...     ...        ...          ...          ...       ...\n",
              "995    4109      30630    4895      36693     0.118282     0.117702  0.004902\n",
              "996    4115      30624    4889      36699     0.118455     0.117558  0.007571\n",
              "997    4130      30609    4874      36714     0.118887     0.117197  0.014209\n",
              "998    4026      30713    4978      36610     0.115893     0.119698 -0.032834\n",
              "999    4091      30648    4913      36675     0.117764     0.118135 -0.003152\n",
              "\n",
              "[1000 rows x 7 columns]"
            ]
          },
          "metadata": {},
          "execution_count": 17
        }
      ]
    },
    {
      "cell_type": "code",
      "metadata": {
        "id": "Gw3Xp0QXKAkb",
        "colab": {
          "base_uri": "https://localhost:8080/",
          "height": 334
        },
        "outputId": "4de6f3e6-7eb8-44f6-d3de-82bfca3d68f2"
      },
      "source": [
        "sns.distplot(perm_results['diff'], kde=False, norm_hist=False)\n",
        "\n",
        "plt.axvline(diff_prueba);"
      ],
      "execution_count": null,
      "outputs": [
        {
          "output_type": "stream",
          "name": "stderr",
          "text": [
            "/usr/local/lib/python3.7/dist-packages/seaborn/distributions.py:2619: FutureWarning: `distplot` is a deprecated function and will be removed in a future version. Please adapt your code to use either `displot` (a figure-level function with similar flexibility) or `histplot` (an axes-level function for histograms).\n",
            "  warnings.warn(msg, FutureWarning)\n"
          ]
        },
        {
          "output_type": "display_data",
          "data": {
            "image/png": "[encoded data removed]",
            "text/plain": [
              "<Figure size 432x288 with 1 Axes>"
            ]
          },
          "metadata": {
            "needs_background": "light"
          }
        }
      ]
    },
    {
      "cell_type": "code",
      "metadata": {
        "id": "17hr3H_nKxzc"
      },
      "source": [
        ""
      ],
      "execution_count": null,
      "outputs": []
    },
    {
      "cell_type": "markdown",
      "metadata": {
        "id": "-RzN3XdWK0Mv"
      },
      "source": [
        "P-VALUE"
      ]
    },
    {
      "cell_type": "code",
      "metadata": {
        "id": "PFRpDgksKzeA",
        "colab": {
          "base_uri": "https://localhost:8080/"
        },
        "outputId": "d41ca044-a4a7-4536-e816-e470dfd21d1a"
      },
      "source": [
        "(perm_results['diff'] >= diff_prueba).sum() / perm_results.shape[0]"
      ],
      "execution_count": null,
      "outputs": [
        {
          "output_type": "execute_result",
          "data": {
            "text/plain": [
              "0.079"
            ]
          },
          "metadata": {},
          "execution_count": 27
        }
      ]
    },
    {
      "cell_type": "code",
      "metadata": {
        "id": "Q3rzz7rULUjS",
        "colab": {
          "base_uri": "https://localhost:8080/"
        },
        "outputId": "3119d685-6318-4ae3-de90-a0f0a9544531"
      },
      "source": [
        "perm_results.shape"
      ],
      "execution_count": null,
      "outputs": [
        {
          "output_type": "execute_result",
          "data": {
            "text/plain": [
              "(1000, 7)"
            ]
          },
          "metadata": {},
          "execution_count": 24
        }
      ]
    },
    {
      "cell_type": "markdown",
      "metadata": {
        "id": "oGyGZry_LNXs"
      },
      "source": [
        "Esto quiere decir que el 7.9% de los test que hicimos obtuvieron un valor igual o mayor que el obtenido en el experimento. Esto es muy cercano a un alfa de 5%, por lo que nuestro resultado no es cuestion de azar simplemente pero no podemos concluir que sea estadisticamente significativo."
      ]
    }
  ]
}