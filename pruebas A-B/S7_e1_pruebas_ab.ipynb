{
  "nbformat": 4,
  "nbformat_minor": 0,
  "metadata": {
    "kernelspec": {
      "display_name": "Python (data_science)",
      "language": "python",
      "name": "data_science"
    },
    "language_info": {
      "codemirror_mode": {
        "name": "ipython",
        "version": 3
      },
      "file_extension": ".py",
      "mimetype": "text/x-python",
      "name": "python",
      "nbconvert_exporter": "python",
      "pygments_lexer": "ipython3",
      "version": "3.8.5"
    },
    "colab": {
      "name": "S7_e1_pruebas_ab.ipynb",
      "provenance": [],
      "collapsed_sections": []
    }
  },
  "cells": [
    {
      "cell_type": "markdown",
      "metadata": {
        "id": "2rNw8czg-SHj"
      },
      "source": [
        "## Ejemplo 1: Pruebas A/B\n",
        "\n",
        "### 1. Objetivos:\n",
        "    - Aprender a evaluar los resultados de una Prueba A/B\n",
        " \n",
        "---\n",
        "    \n",
        "### 2. Desarrollo:"
      ]
    },
    {
      "cell_type": "code",
      "metadata": {
        "id": "jwbm3Q-W-UCJ",
        "colab": {
          "base_uri": "https://localhost:8080/"
        },
        "outputId": "dc7f8f07-8bb2-4d51-c21c-48201ab948fc"
      },
      "source": [
        "from google.colab import drive\n",
        "drive.mount('/content/drive')"
      ],
      "execution_count": null,
      "outputs": [
        {
          "output_type": "stream",
          "name": "stdout",
          "text": [
            "Mounted at /content/drive\n"
          ]
        }
      ]
    },
    {
      "cell_type": "markdown",
      "metadata": {
        "id": "xouMZG-j-SHo"
      },
      "source": [
        "El siguiente es un dataset obtenido con los resultados de una Prueba A/B. Se probaron dos flujos de venta distintos y se registró si cada uno de ellos resultó en una conversión (venta) o no. El test A es la hipótesis alternativa (la aplicada al grupo experimental), mientras que el test B es la hipótesis nula (la aplicada al grupo control)."
      ]
    },
    {
      "cell_type": "code",
      "metadata": {
        "id": "XPaBy8Cg-SHp"
      },
      "source": [
        "import pandas as pd\n",
        "import seaborn as sns\n",
        "import matplotlib.pyplot as plt"
      ],
      "execution_count": null,
      "outputs": []
    },
    {
      "cell_type": "code",
      "metadata": {
        "id": "C6jxajDT-SHq",
        "colab": {
          "base_uri": "https://localhost:8080/",
          "height": 419
        },
        "outputId": "ff67f9b1-94a6-437d-d93c-fa06ba8229d8"
      },
      "source": [
        "df = pd.read_csv('/content/drive/MyDrive/BEDU_DS/FASE_3/Remoto Datasets/Remoto ab_test-sales_pipeline.csv')\n",
        "\n",
        "df"
      ],
      "execution_count": null,
      "outputs": [
        {
          "output_type": "execute_result",
          "data": {
            "text/html": [
              "<div>\n",
              "<style scoped>\n",
              "    .dataframe tbody tr th:only-of-type {\n",
              "        vertical-align: middle;\n",
              "    }\n",
              "\n",
              "    .dataframe tbody tr th {\n",
              "        vertical-align: top;\n",
              "    }\n",
              "\n",
              "    .dataframe thead th {\n",
              "        text-align: right;\n",
              "    }\n",
              "</style>\n",
              "<table border=\"1\" class=\"dataframe\">\n",
              "  <thead>\n",
              "    <tr style=\"text-align: right;\">\n",
              "      <th></th>\n",
              "      <th>test</th>\n",
              "      <th>conversion</th>\n",
              "      <th>no conversion</th>\n",
              "    </tr>\n",
              "  </thead>\n",
              "  <tbody>\n",
              "    <tr>\n",
              "      <th>0</th>\n",
              "      <td>B</td>\n",
              "      <td>0</td>\n",
              "      <td>1</td>\n",
              "    </tr>\n",
              "    <tr>\n",
              "      <th>1</th>\n",
              "      <td>A</td>\n",
              "      <td>0</td>\n",
              "      <td>1</td>\n",
              "    </tr>\n",
              "    <tr>\n",
              "      <th>2</th>\n",
              "      <td>A</td>\n",
              "      <td>0</td>\n",
              "      <td>1</td>\n",
              "    </tr>\n",
              "    <tr>\n",
              "      <th>3</th>\n",
              "      <td>A</td>\n",
              "      <td>0</td>\n",
              "      <td>1</td>\n",
              "    </tr>\n",
              "    <tr>\n",
              "      <th>4</th>\n",
              "      <td>A</td>\n",
              "      <td>0</td>\n",
              "      <td>1</td>\n",
              "    </tr>\n",
              "    <tr>\n",
              "      <th>...</th>\n",
              "      <td>...</td>\n",
              "      <td>...</td>\n",
              "      <td>...</td>\n",
              "    </tr>\n",
              "    <tr>\n",
              "      <th>46322</th>\n",
              "      <td>B</td>\n",
              "      <td>0</td>\n",
              "      <td>1</td>\n",
              "    </tr>\n",
              "    <tr>\n",
              "      <th>46323</th>\n",
              "      <td>B</td>\n",
              "      <td>0</td>\n",
              "      <td>1</td>\n",
              "    </tr>\n",
              "    <tr>\n",
              "      <th>46324</th>\n",
              "      <td>B</td>\n",
              "      <td>0</td>\n",
              "      <td>1</td>\n",
              "    </tr>\n",
              "    <tr>\n",
              "      <th>46325</th>\n",
              "      <td>A</td>\n",
              "      <td>0</td>\n",
              "      <td>1</td>\n",
              "    </tr>\n",
              "    <tr>\n",
              "      <th>46326</th>\n",
              "      <td>A</td>\n",
              "      <td>0</td>\n",
              "      <td>1</td>\n",
              "    </tr>\n",
              "  </tbody>\n",
              "</table>\n",
              "<p>46327 rows × 3 columns</p>\n",
              "</div>"
            ],
            "text/plain": [
              "      test  conversion  no conversion\n",
              "0        B           0              1\n",
              "1        A           0              1\n",
              "2        A           0              1\n",
              "3        A           0              1\n",
              "4        A           0              1\n",
              "...    ...         ...            ...\n",
              "46322    B           0              1\n",
              "46323    B           0              1\n",
              "46324    B           0              1\n",
              "46325    A           0              1\n",
              "46326    A           0              1\n",
              "\n",
              "[46327 rows x 3 columns]"
            ]
          },
          "metadata": {},
          "execution_count": 3
        }
      ]
    },
    {
      "cell_type": "markdown",
      "metadata": {
        "id": "_M0bSbaz-SHr"
      },
      "source": [
        "Lo primero que podemos hacer es agrupar nuestros resultados por 'test', para realizar un conteo de cuántas conversiones hubo con cada flujo de ventas:"
      ]
    },
    {
      "cell_type": "code",
      "metadata": {
        "id": "jeU5Xv9B-SHr",
        "colab": {
          "base_uri": "https://localhost:8080/",
          "height": 142
        },
        "outputId": "1483928b-8fdf-485b-816d-a32c8b39c6a4"
      },
      "source": [
        "total_count = df.groupby('test')[['conversion', 'no conversion']].sum()\n",
        "\n",
        "total_count"
      ],
      "execution_count": null,
      "outputs": [
        {
          "output_type": "execute_result",
          "data": {
            "text/html": [
              "<div>\n",
              "<style scoped>\n",
              "    .dataframe tbody tr th:only-of-type {\n",
              "        vertical-align: middle;\n",
              "    }\n",
              "\n",
              "    .dataframe tbody tr th {\n",
              "        vertical-align: top;\n",
              "    }\n",
              "\n",
              "    .dataframe thead th {\n",
              "        text-align: right;\n",
              "    }\n",
              "</style>\n",
              "<table border=\"1\" class=\"dataframe\">\n",
              "  <thead>\n",
              "    <tr style=\"text-align: right;\">\n",
              "      <th></th>\n",
              "      <th>conversion</th>\n",
              "      <th>no conversion</th>\n",
              "    </tr>\n",
              "    <tr>\n",
              "      <th>test</th>\n",
              "      <th></th>\n",
              "      <th></th>\n",
              "    </tr>\n",
              "  </thead>\n",
              "  <tbody>\n",
              "    <tr>\n",
              "      <th>A</th>\n",
              "      <td>198</td>\n",
              "      <td>23541</td>\n",
              "    </tr>\n",
              "    <tr>\n",
              "      <th>B</th>\n",
              "      <td>184</td>\n",
              "      <td>22404</td>\n",
              "    </tr>\n",
              "  </tbody>\n",
              "</table>\n",
              "</div>"
            ],
            "text/plain": [
              "      conversion  no conversion\n",
              "test                           \n",
              "A            198          23541\n",
              "B            184          22404"
            ]
          },
          "metadata": {},
          "execution_count": 8
        }
      ]
    },
    {
      "cell_type": "markdown",
      "metadata": {
        "id": "BD5hSgj9-SHs"
      },
      "source": [
        "Saquemos la proporción de conversiones que hubo comparadas con el total de pruebas que se realizaron:"
      ]
    },
    {
      "cell_type": "code",
      "metadata": {
        "id": "-lqDCDWu-SHs",
        "colab": {
          "base_uri": "https://localhost:8080/",
          "height": 142
        },
        "outputId": "fa821c18-523b-4425-ab64-4dff31ad12b6"
      },
      "source": [
        "total_count['success rate'] = total_count['conversion'] / (total_count['conversion'] + total_count['no conversion'])\n",
        "\n",
        "total_count"
      ],
      "execution_count": null,
      "outputs": [
        {
          "output_type": "execute_result",
          "data": {
            "text/html": [
              "<div>\n",
              "<style scoped>\n",
              "    .dataframe tbody tr th:only-of-type {\n",
              "        vertical-align: middle;\n",
              "    }\n",
              "\n",
              "    .dataframe tbody tr th {\n",
              "        vertical-align: top;\n",
              "    }\n",
              "\n",
              "    .dataframe thead th {\n",
              "        text-align: right;\n",
              "    }\n",
              "</style>\n",
              "<table border=\"1\" class=\"dataframe\">\n",
              "  <thead>\n",
              "    <tr style=\"text-align: right;\">\n",
              "      <th></th>\n",
              "      <th>conversion</th>\n",
              "      <th>no conversion</th>\n",
              "      <th>success rate</th>\n",
              "    </tr>\n",
              "    <tr>\n",
              "      <th>test</th>\n",
              "      <th></th>\n",
              "      <th></th>\n",
              "      <th></th>\n",
              "    </tr>\n",
              "  </thead>\n",
              "  <tbody>\n",
              "    <tr>\n",
              "      <th>A</th>\n",
              "      <td>198</td>\n",
              "      <td>23541</td>\n",
              "      <td>0.008341</td>\n",
              "    </tr>\n",
              "    <tr>\n",
              "      <th>B</th>\n",
              "      <td>184</td>\n",
              "      <td>22404</td>\n",
              "      <td>0.008146</td>\n",
              "    </tr>\n",
              "  </tbody>\n",
              "</table>\n",
              "</div>"
            ],
            "text/plain": [
              "      conversion  no conversion  success rate\n",
              "test                                         \n",
              "A            198          23541      0.008341\n",
              "B            184          22404      0.008146"
            ]
          },
          "metadata": {},
          "execution_count": 10
        }
      ]
    },
    {
      "cell_type": "markdown",
      "metadata": {
        "id": "4QGJoorr-SHt"
      },
      "source": [
        "Con estos datos parecería que el flujo A (la hipótesis alternativa) es superior al flujo B. Veamos qué tan superior:"
      ]
    },
    {
      "cell_type": "code",
      "metadata": {
        "id": "ibHx0WDL-SHt"
      },
      "source": [
        "diferencia_en_proporcion = 1 - (total_count.loc['B']['success rate'] / total_count.loc['A']['success rate'])\n",
        "diferencia_en_porcentaje = diferencia_en_proporcion * 100"
      ],
      "execution_count": null,
      "outputs": []
    },
    {
      "cell_type": "markdown",
      "metadata": {
        "id": "fHSy8g4nEZ38"
      },
      "source": [
        "EN NUESTRA MUESTRA LA ALTERNATIVA LA PRUEBA A TUVO MAS EXITO QUE B. ¿ES CUESTION DE AZAR O ES CIERTO? "
      ]
    },
    {
      "cell_type": "code",
      "metadata": {
        "id": "QGQ7kyt6-SHt",
        "colab": {
          "base_uri": "https://localhost:8080/"
        },
        "outputId": "4d4fc533-e946-4ac4-afc1-e9f6bd200eb8"
      },
      "source": [
        "print(f'El test A fue {diferencia_en_porcentaje:.2f}% más `efectivo que el test B para generar ventas.')"
      ],
      "execution_count": null,
      "outputs": [
        {
          "output_type": "stream",
          "name": "stdout",
          "text": [
            "El test A fue 2.34% más `efectivo que el test B para generar ventas.\n"
          ]
        }
      ]
    },
    {
      "cell_type": "markdown",
      "metadata": {
        "id": "G1EtbGRp-SHu"
      },
      "source": [
        "¿Ahora, podemos entonces concluir que el flujo de ventas A es mejor que el B? No tan rápido. Vamos a aplicar un test de permutación para saber si nuestro hallazgo es estadísticamente significativo.\n",
        "\n",
        "Primero tenemos que mezclar las mediciones del test A y el B en el mismo DataFrame. Esto ya está hecho, entonces solamente vamos a eliminar la columna 'test' para que no haya manera de diferenciarlos:"
      ]
    },
    {
      "cell_type": "code",
      "metadata": {
        "id": "4LAwpA0z-SHu"
      },
      "source": [
        "all_measurements = df[['conversion', 'no conversion']]"
      ],
      "execution_count": null,
      "outputs": []
    },
    {
      "cell_type": "markdown",
      "metadata": {
        "id": "NF1Lv7k_-SHu"
      },
      "source": [
        "Ahora necesitamos saber cuántos tests con el flujo A hubieron para poder generar muestras del mismo tamaño exactamente:"
      ]
    },
    {
      "cell_type": "code",
      "metadata": {
        "id": "GYfsn3vT-SHv",
        "colab": {
          "base_uri": "https://localhost:8080/"
        },
        "outputId": "63efda4b-2144-4e25-e5ec-68a3239d1d7c"
      },
      "source": [
        "value_counts = df['test'].value_counts()\n",
        "\n",
        "value_counts"
      ],
      "execution_count": null,
      "outputs": [
        {
          "output_type": "execute_result",
          "data": {
            "text/plain": [
              "A    23739\n",
              "B    22588\n",
              "Name: test, dtype: int64"
            ]
          },
          "metadata": {},
          "execution_count": 16
        }
      ]
    },
    {
      "cell_type": "markdown",
      "metadata": {
        "id": "KEhOozXV-SHv"
      },
      "source": [
        "Ahora vamos a aplicar el resto del algoritmo del test de permutación:\n",
        "\n",
        "1. Usando muestreo aleatorio sin reposición, construye un nuevo grupo A del mismo tamaño que el original.\n",
        "2. El resto de los datos conforman nuestro nuevo grupo B.\n",
        "3. Cuantifica la métrica o estadística que calculaste con los grupos originales y guarda el resultado.\n",
        "4. Repite los pasos 1-5 `R` veces para obtener una distribución de la estadística de interés."
      ]
    },
    {
      "cell_type": "markdown",
      "metadata": {
        "id": "J-QCRoVhDugt"
      },
      "source": [
        "CREAMOS 1000 COPIAS ALEATORIAS CON EL MISMO TAMAÑO QUE A Y B PARA VER QUE TANTO PODEMOS ESPERAR DEL AZAR Y NO CONFUNDIRLO CON UNA TENDENCIA."
      ]
    },
    {
      "cell_type": "code",
      "metadata": {
        "id": "X0vBCEcB-SHv"
      },
      "source": [
        "conv_a = []\n",
        "no_conv_a = []\n",
        "conv_b = []\n",
        "no_conv_b = []\n",
        "\n",
        "for _ in range(1000):\n",
        "    a = df.sample(value_counts.loc['A'], replace=False)\n",
        "    conv_a.append(a['conversion'].sum())\n",
        "    no_conv_a.append(a['no conversion'].sum())\n",
        "    \n",
        "    b = df.loc[~df.index.isin(a.index)] #todos los elementos que no estan en el indice de a\n",
        "    conv_b.append(b['conversion'].sum()) \n",
        "    no_conv_b.append(b['no conversion'].sum())"
      ],
      "execution_count": null,
      "outputs": []
    },
    {
      "cell_type": "code",
      "metadata": {
        "id": "ShG8jXFw-SHw",
        "colab": {
          "base_uri": "https://localhost:8080/",
          "height": 419
        },
        "outputId": "d6a6b55f-25b2-49fb-f81b-c128315c4ae3"
      },
      "source": [
        "perm_results = pd.DataFrame({\n",
        "    'conv_a': conv_a,\n",
        "    'no_conv_a': no_conv_a,\n",
        "    'conv_b': conv_b,\n",
        "    'no_conv_b': no_conv_b\n",
        "})\n",
        "\n",
        "perm_results"
      ],
      "execution_count": null,
      "outputs": [
        {
          "output_type": "execute_result",
          "data": {
            "text/html": [
              "<div>\n",
              "<style scoped>\n",
              "    .dataframe tbody tr th:only-of-type {\n",
              "        vertical-align: middle;\n",
              "    }\n",
              "\n",
              "    .dataframe tbody tr th {\n",
              "        vertical-align: top;\n",
              "    }\n",
              "\n",
              "    .dataframe thead th {\n",
              "        text-align: right;\n",
              "    }\n",
              "</style>\n",
              "<table border=\"1\" class=\"dataframe\">\n",
              "  <thead>\n",
              "    <tr style=\"text-align: right;\">\n",
              "      <th></th>\n",
              "      <th>conv_a</th>\n",
              "      <th>no_conv_a</th>\n",
              "      <th>conv_b</th>\n",
              "      <th>no_conv_b</th>\n",
              "    </tr>\n",
              "  </thead>\n",
              "  <tbody>\n",
              "    <tr>\n",
              "      <th>0</th>\n",
              "      <td>207</td>\n",
              "      <td>23532</td>\n",
              "      <td>175</td>\n",
              "      <td>22413</td>\n",
              "    </tr>\n",
              "    <tr>\n",
              "      <th>1</th>\n",
              "      <td>197</td>\n",
              "      <td>23542</td>\n",
              "      <td>185</td>\n",
              "      <td>22403</td>\n",
              "    </tr>\n",
              "    <tr>\n",
              "      <th>2</th>\n",
              "      <td>191</td>\n",
              "      <td>23548</td>\n",
              "      <td>191</td>\n",
              "      <td>22397</td>\n",
              "    </tr>\n",
              "    <tr>\n",
              "      <th>3</th>\n",
              "      <td>214</td>\n",
              "      <td>23525</td>\n",
              "      <td>168</td>\n",
              "      <td>22420</td>\n",
              "    </tr>\n",
              "    <tr>\n",
              "      <th>4</th>\n",
              "      <td>186</td>\n",
              "      <td>23553</td>\n",
              "      <td>196</td>\n",
              "      <td>22392</td>\n",
              "    </tr>\n",
              "    <tr>\n",
              "      <th>...</th>\n",
              "      <td>...</td>\n",
              "      <td>...</td>\n",
              "      <td>...</td>\n",
              "      <td>...</td>\n",
              "    </tr>\n",
              "    <tr>\n",
              "      <th>995</th>\n",
              "      <td>210</td>\n",
              "      <td>23529</td>\n",
              "      <td>172</td>\n",
              "      <td>22416</td>\n",
              "    </tr>\n",
              "    <tr>\n",
              "      <th>996</th>\n",
              "      <td>207</td>\n",
              "      <td>23532</td>\n",
              "      <td>175</td>\n",
              "      <td>22413</td>\n",
              "    </tr>\n",
              "    <tr>\n",
              "      <th>997</th>\n",
              "      <td>187</td>\n",
              "      <td>23552</td>\n",
              "      <td>195</td>\n",
              "      <td>22393</td>\n",
              "    </tr>\n",
              "    <tr>\n",
              "      <th>998</th>\n",
              "      <td>188</td>\n",
              "      <td>23551</td>\n",
              "      <td>194</td>\n",
              "      <td>22394</td>\n",
              "    </tr>\n",
              "    <tr>\n",
              "      <th>999</th>\n",
              "      <td>188</td>\n",
              "      <td>23551</td>\n",
              "      <td>194</td>\n",
              "      <td>22394</td>\n",
              "    </tr>\n",
              "  </tbody>\n",
              "</table>\n",
              "<p>1000 rows × 4 columns</p>\n",
              "</div>"
            ],
            "text/plain": [
              "     conv_a  no_conv_a  conv_b  no_conv_b\n",
              "0       207      23532     175      22413\n",
              "1       197      23542     185      22403\n",
              "2       191      23548     191      22397\n",
              "3       214      23525     168      22420\n",
              "4       186      23553     196      22392\n",
              "..      ...        ...     ...        ...\n",
              "995     210      23529     172      22416\n",
              "996     207      23532     175      22413\n",
              "997     187      23552     195      22393\n",
              "998     188      23551     194      22394\n",
              "999     188      23551     194      22394\n",
              "\n",
              "[1000 rows x 4 columns]"
            ]
          },
          "metadata": {},
          "execution_count": 19
        }
      ]
    },
    {
      "cell_type": "markdown",
      "metadata": {
        "id": "v0uu-7oIC71r"
      },
      "source": [
        "TASA DE EFICIENCIA DE LA PRUEBA A y B. $$a\\% = \\frac{a}{a+\\bar{a}}$$"
      ]
    },
    {
      "cell_type": "code",
      "metadata": {
        "id": "hII6DG3E-SHw"
      },
      "source": [
        "perm_results['a_conv_rate'] = perm_results['conv_a'] / (perm_results['conv_a'] + perm_results['no_conv_a'])\n",
        "perm_results['b_conv_rate'] = perm_results['conv_b'] / (perm_results['conv_b'] + perm_results['no_conv_b'])"
      ],
      "execution_count": null,
      "outputs": []
    },
    {
      "cell_type": "code",
      "metadata": {
        "id": "8pUUdZoD-SHx",
        "colab": {
          "base_uri": "https://localhost:8080/",
          "height": 419
        },
        "outputId": "b9157222-43c5-4d4d-931c-5a2a9c349d59"
      },
      "source": [
        "perm_results"
      ],
      "execution_count": null,
      "outputs": [
        {
          "output_type": "execute_result",
          "data": {
            "text/html": [
              "<div>\n",
              "<style scoped>\n",
              "    .dataframe tbody tr th:only-of-type {\n",
              "        vertical-align: middle;\n",
              "    }\n",
              "\n",
              "    .dataframe tbody tr th {\n",
              "        vertical-align: top;\n",
              "    }\n",
              "\n",
              "    .dataframe thead th {\n",
              "        text-align: right;\n",
              "    }\n",
              "</style>\n",
              "<table border=\"1\" class=\"dataframe\">\n",
              "  <thead>\n",
              "    <tr style=\"text-align: right;\">\n",
              "      <th></th>\n",
              "      <th>conv_a</th>\n",
              "      <th>no_conv_a</th>\n",
              "      <th>conv_b</th>\n",
              "      <th>no_conv_b</th>\n",
              "      <th>a_conv_rate</th>\n",
              "      <th>b_conv_rate</th>\n",
              "    </tr>\n",
              "  </thead>\n",
              "  <tbody>\n",
              "    <tr>\n",
              "      <th>0</th>\n",
              "      <td>207</td>\n",
              "      <td>23532</td>\n",
              "      <td>175</td>\n",
              "      <td>22413</td>\n",
              "      <td>0.008720</td>\n",
              "      <td>0.007747</td>\n",
              "    </tr>\n",
              "    <tr>\n",
              "      <th>1</th>\n",
              "      <td>197</td>\n",
              "      <td>23542</td>\n",
              "      <td>185</td>\n",
              "      <td>22403</td>\n",
              "      <td>0.008299</td>\n",
              "      <td>0.008190</td>\n",
              "    </tr>\n",
              "    <tr>\n",
              "      <th>2</th>\n",
              "      <td>191</td>\n",
              "      <td>23548</td>\n",
              "      <td>191</td>\n",
              "      <td>22397</td>\n",
              "      <td>0.008046</td>\n",
              "      <td>0.008456</td>\n",
              "    </tr>\n",
              "    <tr>\n",
              "      <th>3</th>\n",
              "      <td>214</td>\n",
              "      <td>23525</td>\n",
              "      <td>168</td>\n",
              "      <td>22420</td>\n",
              "      <td>0.009015</td>\n",
              "      <td>0.007438</td>\n",
              "    </tr>\n",
              "    <tr>\n",
              "      <th>4</th>\n",
              "      <td>186</td>\n",
              "      <td>23553</td>\n",
              "      <td>196</td>\n",
              "      <td>22392</td>\n",
              "      <td>0.007835</td>\n",
              "      <td>0.008677</td>\n",
              "    </tr>\n",
              "    <tr>\n",
              "      <th>...</th>\n",
              "      <td>...</td>\n",
              "      <td>...</td>\n",
              "      <td>...</td>\n",
              "      <td>...</td>\n",
              "      <td>...</td>\n",
              "      <td>...</td>\n",
              "    </tr>\n",
              "    <tr>\n",
              "      <th>995</th>\n",
              "      <td>210</td>\n",
              "      <td>23529</td>\n",
              "      <td>172</td>\n",
              "      <td>22416</td>\n",
              "      <td>0.008846</td>\n",
              "      <td>0.007615</td>\n",
              "    </tr>\n",
              "    <tr>\n",
              "      <th>996</th>\n",
              "      <td>207</td>\n",
              "      <td>23532</td>\n",
              "      <td>175</td>\n",
              "      <td>22413</td>\n",
              "      <td>0.008720</td>\n",
              "      <td>0.007747</td>\n",
              "    </tr>\n",
              "    <tr>\n",
              "      <th>997</th>\n",
              "      <td>187</td>\n",
              "      <td>23552</td>\n",
              "      <td>195</td>\n",
              "      <td>22393</td>\n",
              "      <td>0.007877</td>\n",
              "      <td>0.008633</td>\n",
              "    </tr>\n",
              "    <tr>\n",
              "      <th>998</th>\n",
              "      <td>188</td>\n",
              "      <td>23551</td>\n",
              "      <td>194</td>\n",
              "      <td>22394</td>\n",
              "      <td>0.007919</td>\n",
              "      <td>0.008589</td>\n",
              "    </tr>\n",
              "    <tr>\n",
              "      <th>999</th>\n",
              "      <td>188</td>\n",
              "      <td>23551</td>\n",
              "      <td>194</td>\n",
              "      <td>22394</td>\n",
              "      <td>0.007919</td>\n",
              "      <td>0.008589</td>\n",
              "    </tr>\n",
              "  </tbody>\n",
              "</table>\n",
              "<p>1000 rows × 6 columns</p>\n",
              "</div>"
            ],
            "text/plain": [
              "     conv_a  no_conv_a  conv_b  no_conv_b  a_conv_rate  b_conv_rate\n",
              "0       207      23532     175      22413     0.008720     0.007747\n",
              "1       197      23542     185      22403     0.008299     0.008190\n",
              "2       191      23548     191      22397     0.008046     0.008456\n",
              "3       214      23525     168      22420     0.009015     0.007438\n",
              "4       186      23553     196      22392     0.007835     0.008677\n",
              "..      ...        ...     ...        ...          ...          ...\n",
              "995     210      23529     172      22416     0.008846     0.007615\n",
              "996     207      23532     175      22413     0.008720     0.007747\n",
              "997     187      23552     195      22393     0.007877     0.008633\n",
              "998     188      23551     194      22394     0.007919     0.008589\n",
              "999     188      23551     194      22394     0.007919     0.008589\n",
              "\n",
              "[1000 rows x 6 columns]"
            ]
          },
          "metadata": {},
          "execution_count": 21
        }
      ]
    },
    {
      "cell_type": "code",
      "metadata": {
        "id": "HjhIO_zUEP2B"
      },
      "source": [
        ""
      ],
      "execution_count": null,
      "outputs": []
    },
    {
      "cell_type": "code",
      "metadata": {
        "id": "K8l4b1_V-SHx",
        "colab": {
          "base_uri": "https://localhost:8080/",
          "height": 419
        },
        "outputId": "801a3e66-fa2d-4342-9e54-047152b5f1f2"
      },
      "source": [
        "perm_results['diff'] = 1 - (perm_results['b_conv_rate'] / perm_results['a_conv_rate'])\n",
        "\n",
        "perm_results"
      ],
      "execution_count": null,
      "outputs": [
        {
          "output_type": "execute_result",
          "data": {
            "text/html": [
              "<div>\n",
              "<style scoped>\n",
              "    .dataframe tbody tr th:only-of-type {\n",
              "        vertical-align: middle;\n",
              "    }\n",
              "\n",
              "    .dataframe tbody tr th {\n",
              "        vertical-align: top;\n",
              "    }\n",
              "\n",
              "    .dataframe thead th {\n",
              "        text-align: right;\n",
              "    }\n",
              "</style>\n",
              "<table border=\"1\" class=\"dataframe\">\n",
              "  <thead>\n",
              "    <tr style=\"text-align: right;\">\n",
              "      <th></th>\n",
              "      <th>conv_a</th>\n",
              "      <th>no_conv_a</th>\n",
              "      <th>conv_b</th>\n",
              "      <th>no_conv_b</th>\n",
              "      <th>a_conv_rate</th>\n",
              "      <th>b_conv_rate</th>\n",
              "      <th>diff</th>\n",
              "    </tr>\n",
              "  </thead>\n",
              "  <tbody>\n",
              "    <tr>\n",
              "      <th>0</th>\n",
              "      <td>207</td>\n",
              "      <td>23532</td>\n",
              "      <td>175</td>\n",
              "      <td>22413</td>\n",
              "      <td>0.008720</td>\n",
              "      <td>0.007747</td>\n",
              "      <td>0.111510</td>\n",
              "    </tr>\n",
              "    <tr>\n",
              "      <th>1</th>\n",
              "      <td>197</td>\n",
              "      <td>23542</td>\n",
              "      <td>185</td>\n",
              "      <td>22403</td>\n",
              "      <td>0.008299</td>\n",
              "      <td>0.008190</td>\n",
              "      <td>0.013061</td>\n",
              "    </tr>\n",
              "    <tr>\n",
              "      <th>2</th>\n",
              "      <td>191</td>\n",
              "      <td>23548</td>\n",
              "      <td>191</td>\n",
              "      <td>22397</td>\n",
              "      <td>0.008046</td>\n",
              "      <td>0.008456</td>\n",
              "      <td>-0.050956</td>\n",
              "    </tr>\n",
              "    <tr>\n",
              "      <th>3</th>\n",
              "      <td>214</td>\n",
              "      <td>23525</td>\n",
              "      <td>168</td>\n",
              "      <td>22420</td>\n",
              "      <td>0.009015</td>\n",
              "      <td>0.007438</td>\n",
              "      <td>0.174950</td>\n",
              "    </tr>\n",
              "    <tr>\n",
              "      <th>4</th>\n",
              "      <td>186</td>\n",
              "      <td>23553</td>\n",
              "      <td>196</td>\n",
              "      <td>22392</td>\n",
              "      <td>0.007835</td>\n",
              "      <td>0.008677</td>\n",
              "      <td>-0.107459</td>\n",
              "    </tr>\n",
              "    <tr>\n",
              "      <th>...</th>\n",
              "      <td>...</td>\n",
              "      <td>...</td>\n",
              "      <td>...</td>\n",
              "      <td>...</td>\n",
              "      <td>...</td>\n",
              "      <td>...</td>\n",
              "      <td>...</td>\n",
              "    </tr>\n",
              "    <tr>\n",
              "      <th>995</th>\n",
              "      <td>210</td>\n",
              "      <td>23529</td>\n",
              "      <td>172</td>\n",
              "      <td>22416</td>\n",
              "      <td>0.008846</td>\n",
              "      <td>0.007615</td>\n",
              "      <td>0.139217</td>\n",
              "    </tr>\n",
              "    <tr>\n",
              "      <th>996</th>\n",
              "      <td>207</td>\n",
              "      <td>23532</td>\n",
              "      <td>175</td>\n",
              "      <td>22413</td>\n",
              "      <td>0.008720</td>\n",
              "      <td>0.007747</td>\n",
              "      <td>0.111510</td>\n",
              "    </tr>\n",
              "    <tr>\n",
              "      <th>997</th>\n",
              "      <td>187</td>\n",
              "      <td>23552</td>\n",
              "      <td>195</td>\n",
              "      <td>22393</td>\n",
              "      <td>0.007877</td>\n",
              "      <td>0.008633</td>\n",
              "      <td>-0.095917</td>\n",
              "    </tr>\n",
              "    <tr>\n",
              "      <th>998</th>\n",
              "      <td>188</td>\n",
              "      <td>23551</td>\n",
              "      <td>194</td>\n",
              "      <td>22394</td>\n",
              "      <td>0.007919</td>\n",
              "      <td>0.008589</td>\n",
              "      <td>-0.084497</td>\n",
              "    </tr>\n",
              "    <tr>\n",
              "      <th>999</th>\n",
              "      <td>188</td>\n",
              "      <td>23551</td>\n",
              "      <td>194</td>\n",
              "      <td>22394</td>\n",
              "      <td>0.007919</td>\n",
              "      <td>0.008589</td>\n",
              "      <td>-0.084497</td>\n",
              "    </tr>\n",
              "  </tbody>\n",
              "</table>\n",
              "<p>1000 rows × 7 columns</p>\n",
              "</div>"
            ],
            "text/plain": [
              "     conv_a  no_conv_a  conv_b  no_conv_b  a_conv_rate  b_conv_rate      diff\n",
              "0       207      23532     175      22413     0.008720     0.007747  0.111510\n",
              "1       197      23542     185      22403     0.008299     0.008190  0.013061\n",
              "2       191      23548     191      22397     0.008046     0.008456 -0.050956\n",
              "3       214      23525     168      22420     0.009015     0.007438  0.174950\n",
              "4       186      23553     196      22392     0.007835     0.008677 -0.107459\n",
              "..      ...        ...     ...        ...          ...          ...       ...\n",
              "995     210      23529     172      22416     0.008846     0.007615  0.139217\n",
              "996     207      23532     175      22413     0.008720     0.007747  0.111510\n",
              "997     187      23552     195      22393     0.007877     0.008633 -0.095917\n",
              "998     188      23551     194      22394     0.007919     0.008589 -0.084497\n",
              "999     188      23551     194      22394     0.007919     0.008589 -0.084497\n",
              "\n",
              "[1000 rows x 7 columns]"
            ]
          },
          "metadata": {},
          "execution_count": 23
        }
      ]
    },
    {
      "cell_type": "markdown",
      "metadata": {
        "id": "IPpIysKX-SHx"
      },
      "source": [
        "Ya tenemos nuestros resultados, vamos a ver dónde cae en nuestra distribución el resultado que obtuvimos en nuestro experimento:"
      ]
    },
    {
      "cell_type": "markdown",
      "metadata": {
        "id": "K9yAnefTE5E9"
      },
      "source": [
        "LA EFICIENCIA DE NUESTRA PRUEBA A EN COMPARACION DE B, ES PURA CUESTION DE AZAR AL TENER UN VALOR MUY CERCANO A LA MEDIA DE LAS EFICIENCIAS DE LAS MUESTRAS ALEATORIAS. "
      ]
    },
    {
      "cell_type": "code",
      "metadata": {
        "id": "p1poE3W0-SHx",
        "colab": {
          "base_uri": "https://localhost:8080/",
          "height": 333
        },
        "outputId": "fca286e2-39d1-4172-8aaf-e6ed3ad7adbb"
      },
      "source": [
        "sns.distplot(perm_results['diff'], kde=False, norm_hist=False)\n",
        "\n",
        "plt.axvline(diferencia_en_proporcion);"
      ],
      "execution_count": null,
      "outputs": [
        {
          "output_type": "stream",
          "name": "stderr",
          "text": [
            "/usr/local/lib/python3.7/dist-packages/seaborn/distributions.py:2619: FutureWarning: `distplot` is a deprecated function and will be removed in a future version. Please adapt your code to use either `displot` (a figure-level function with similar flexibility) or `histplot` (an axes-level function for histograms).\n",
            "  warnings.warn(msg, FutureWarning)\n"
          ]
        },
        {
          "output_type": "display_data",
          "data": {
            "image/png": "[encoded data removed]",
            "text/plain": [
              "<Figure size 432x288 with 1 Axes>"
            ]
          },
          "metadata": {
            "needs_background": "light"
          }
        }
      ]
    },
    {
      "cell_type": "markdown",
      "metadata": {
        "id": "koYq7D8d-SHy"
      },
      "source": [
        "Solamente de ver la histograma podemos concluir que nuestro resultado es de hecho bastante típico. Un gran número de modelos realizados totalmente al azar tuvieron valores iguales o más extremos que el que obtuvimos en nuestro experimento.\n",
        "\n",
        "Vamos ahora a obtener el Valor P para cuantificar numéricamente nuestro resultado:"
      ]
    },
    {
      "cell_type": "code",
      "metadata": {
        "id": "mThB8hxJ-SHy",
        "colab": {
          "base_uri": "https://localhost:8080/"
        },
        "outputId": "b369ae70-c014-4acf-97e4-5818c1c2dc60"
      },
      "source": [
        "(perm_results['diff'] >= diferencia_en_proporcion).sum() / perm_results.shape[0]"
      ],
      "execution_count": null,
      "outputs": [
        {
          "output_type": "execute_result",
          "data": {
            "text/plain": [
              "0.422"
            ]
          },
          "metadata": {},
          "execution_count": 25
        }
      ]
    },
    {
      "cell_type": "markdown",
      "metadata": {
        "id": "32rEPqv4-SHy"
      },
      "source": [
        "Este valor quiere decir que el 41.6% de los test que hicimos obtuvieron un valor igual o más extremo que el obtenido en el experimento. Esto está extremadamente alejado de un Alfa de 5%, y por lo tanto definitivamente nuestro resultado **no es estadísticamente significativo**."
      ]
    },
    {
      "cell_type": "markdown",
      "metadata": {
        "id": "h8xIrtgIFTvr"
      },
      "source": [
        "UN BUEN VALOR QUE NO SEA CUESTION DE AZAR Y CON EL CUAL PODAMOS CONCLUIR QUE UNA PRUEBA ES MEJOR QUE OTRA, DEBE SER UN VALOR ATIPICO AL HISTOGRAMA DE EFICIENCIAS DE LAS MUESTRAS ALEATORIAS. "
      ]
    }
  ]
}