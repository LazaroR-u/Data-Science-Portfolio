{
  "nbformat": 4,
  "nbformat_minor": 0,
  "metadata": {
    "kernelspec": {
      "display_name": "Python (data_science)",
      "language": "python",
      "name": "data_science"
    },
    "language_info": {
      "codemirror_mode": {
        "name": "ipython",
        "version": 3
      },
      "file_extension": ".py",
      "mimetype": "text/x-python",
      "name": "python",
      "nbconvert_exporter": "python",
      "pygments_lexer": "ipython3",
      "version": "3.8.5"
    },
    "colab": {
      "name": "S7_reto3_nltk_text.ipynb",
      "provenance": [],
      "collapsed_sections": []
    }
  },
  "cells": [
    {
      "cell_type": "markdown",
      "metadata": {
        "id": "xdS4ixHjX4VD"
      },
      "source": [
        "## Reto 3: Nltk Text\n",
        "\n",
        "### 1. Objetivos:\n",
        "    - Practicar el uso del objeto Text de la librería Nltk\n",
        " \n",
        "---\n",
        "    \n",
        "### 2. Desarrollo:"
      ]
    },
    {
      "cell_type": "markdown",
      "metadata": {
        "id": "KkR2lTaZX4VH"
      },
      "source": [
        "Vamos a practicar utilizar el objeto Text de la librería Nltk. Para practicar utilizaremos el conjunto de datos que limpiaste en el Reto anterior. Este conjunto de datos debería de contener todas las evaluaciones registradas en el dataset 'amazon_fine_food_reviews-clean.csv' ya limpias y listas para el análisis.\n",
        "\n",
        "Tu Reto consiste en lo siguiente:\n",
        "\n",
        "1. Aplica el método 'word_tokenize' de nltk para separar todas las evaluaciones por palabras (esto puede tardar un ratito).\n",
        "2. Genera una sola lista con todas las listas que obtuviste en el paso 1 y úsala para crear un objeto `nltk.Text` (esto también puede tardar un ratito, sé paciente).\n",
        "3. Busca las concordancias de las palabras 'boy' y 'girl'.\n",
        "4. Busca las palabras que tengan contextos similares a las palabras 'boy' y 'girl'.\n",
        "5. Busca los contextos que tengan en común las palabras 'boy' y 'girl'.\n",
        "6. Cuantifica la riqueza léxica de tu conjunto de datos\n",
        "7. Sigue tu curiosidad y realiza algunas otras exploraciones por tu cuenta.\n",
        "8. Comenta tus hallazgos con tus compañeros y la experta."
      ]
    },
    {
      "cell_type": "code",
      "metadata": {
        "id": "xGhNerlRaNvV",
        "colab": {
          "base_uri": "https://localhost:8080/"
        },
        "outputId": "a7aa9127-9510-48d4-a70a-b21bdd190607"
      },
      "source": [
        "from google.colab import drive\n",
        "drive.mount('/content/drive')"
      ],
      "execution_count": 1,
      "outputs": [
        {
          "output_type": "stream",
          "name": "stdout",
          "text": [
            "Mounted at /content/drive\n"
          ]
        }
      ]
    },
    {
      "cell_type": "code",
      "metadata": {
        "id": "87ZGSFDCX4VI"
      },
      "source": [
        "import pandas as pd\n",
        "import nltk\n",
        "import seaborn as sns\n",
        "import matplotlib.pyplot as plt\n",
        "import numpy as np"
      ],
      "execution_count": null,
      "outputs": []
    },
    {
      "cell_type": "code",
      "metadata": {
        "id": "fNxblFHJaEMn",
        "colab": {
          "base_uri": "https://localhost:8080/",
          "height": 204
        },
        "outputId": "4eacf8fa-1377-407c-ed88-8760705e10a7"
      },
      "source": [
        "df= pd.read_csv(\"/content/drive/MyDrive/BEDU_DS/FASE_3/Remoto Datasets/Remoto amazon_fine_food_reviews-clean.csv\")\n",
        "df.head()"
      ],
      "execution_count": null,
      "outputs": [
        {
          "output_type": "execute_result",
          "data": {
            "text/html": [
              "<div>\n",
              "<style scoped>\n",
              "    .dataframe tbody tr th:only-of-type {\n",
              "        vertical-align: middle;\n",
              "    }\n",
              "\n",
              "    .dataframe tbody tr th {\n",
              "        vertical-align: top;\n",
              "    }\n",
              "\n",
              "    .dataframe thead th {\n",
              "        text-align: right;\n",
              "    }\n",
              "</style>\n",
              "<table border=\"1\" class=\"dataframe\">\n",
              "  <thead>\n",
              "    <tr style=\"text-align: right;\">\n",
              "      <th></th>\n",
              "      <th>id</th>\n",
              "      <th>product_id</th>\n",
              "      <th>user_id</th>\n",
              "      <th>profile_name</th>\n",
              "      <th>helpfulness_numerator</th>\n",
              "      <th>helpfulness_denominator</th>\n",
              "      <th>score</th>\n",
              "      <th>time</th>\n",
              "      <th>summary</th>\n",
              "      <th>text</th>\n",
              "    </tr>\n",
              "  </thead>\n",
              "  <tbody>\n",
              "    <tr>\n",
              "      <th>0</th>\n",
              "      <td>258510</td>\n",
              "      <td>B00168V34W</td>\n",
              "      <td>A1672LH9S1XO70</td>\n",
              "      <td>Lorna J. Loomis \"Canadian Dog Fancier\"</td>\n",
              "      <td>13</td>\n",
              "      <td>14</td>\n",
              "      <td>3</td>\n",
              "      <td>1266796800</td>\n",
              "      <td>Misleading to refer to \"PODS\"</td>\n",
              "      <td>This coffee does NOT come in individual \"PODS\"...</td>\n",
              "    </tr>\n",
              "    <tr>\n",
              "      <th>1</th>\n",
              "      <td>207915</td>\n",
              "      <td>B000CQID2Y</td>\n",
              "      <td>A42CJC66XO0H7</td>\n",
              "      <td>Scott Schimmel \"A Butterfly Dreaming\"</td>\n",
              "      <td>2</td>\n",
              "      <td>2</td>\n",
              "      <td>5</td>\n",
              "      <td>1279497600</td>\n",
              "      <td>Delicious</td>\n",
              "      <td>I was a little skeptical after looking at the ...</td>\n",
              "    </tr>\n",
              "    <tr>\n",
              "      <th>2</th>\n",
              "      <td>522649</td>\n",
              "      <td>B007TJGZ0Y</td>\n",
              "      <td>A16QZBG2UN6Z3X</td>\n",
              "      <td>Toology \"Toology\"</td>\n",
              "      <td>0</td>\n",
              "      <td>0</td>\n",
              "      <td>5</td>\n",
              "      <td>1335830400</td>\n",
              "      <td>One of my favs</td>\n",
              "      <td>Gloia Jeans Butter Toffee is one of my favorit...</td>\n",
              "    </tr>\n",
              "    <tr>\n",
              "      <th>3</th>\n",
              "      <td>393368</td>\n",
              "      <td>B000W7PUOW</td>\n",
              "      <td>A3J21CQZG60K35</td>\n",
              "      <td>Hsieh Pei Hsuan</td>\n",
              "      <td>2</td>\n",
              "      <td>2</td>\n",
              "      <td>5</td>\n",
              "      <td>1265673600</td>\n",
              "      <td>Tasty!!</td>\n",
              "      <td>My families and friends love Planters peanuts ...</td>\n",
              "    </tr>\n",
              "    <tr>\n",
              "      <th>4</th>\n",
              "      <td>178178</td>\n",
              "      <td>B002FX2IOQ</td>\n",
              "      <td>A1Z7XV6JU0EV8M</td>\n",
              "      <td>Barbara \"Barbara\"</td>\n",
              "      <td>1</td>\n",
              "      <td>6</td>\n",
              "      <td>1</td>\n",
              "      <td>1301788800</td>\n",
              "      <td>Organic Valley White 1 % Milkfat Lowfat Milk, ...</td>\n",
              "      <td>Organic Valley White 1 % Milkfat Lowfat Milk, ...</td>\n",
              "    </tr>\n",
              "  </tbody>\n",
              "</table>\n",
              "</div>"
            ],
            "text/plain": [
              "       id  ...                                               text\n",
              "0  258510  ...  This coffee does NOT come in individual \"PODS\"...\n",
              "1  207915  ...  I was a little skeptical after looking at the ...\n",
              "2  522649  ...  Gloia Jeans Butter Toffee is one of my favorit...\n",
              "3  393368  ...  My families and friends love Planters peanuts ...\n",
              "4  178178  ...  Organic Valley White 1 % Milkfat Lowfat Milk, ...\n",
              "\n",
              "[5 rows x 10 columns]"
            ]
          },
          "metadata": {},
          "execution_count": 3
        }
      ]
    },
    {
      "cell_type": "code",
      "metadata": {
        "id": "rK5n59pRanrO",
        "colab": {
          "base_uri": "https://localhost:8080/"
        },
        "outputId": "9bc5747a-881b-4f08-f324-324b2fbce9be"
      },
      "source": [
        "grouped_by_title = df.groupby('user_id')['text'].max()\n",
        "\n",
        "grouped_by_title"
      ],
      "execution_count": null,
      "outputs": [
        {
          "output_type": "execute_result",
          "data": {
            "text/plain": [
              "user_id\n",
              "#oc-R14VLCY75KIBSB    I purchased two blends from this company; broo...\n",
              "#oc-R1730HL4795MHX    Ordered 4 boxes. 4 different flavors. Have had...\n",
              "#oc-R1HFLTAYDCLBBP    Essentia water tastes great, and its price is ...\n",
              "#oc-R1OTWY0232JAF9    I confess I purchased this variety box mostly ...\n",
              "#oc-R1WIBE7UA1Y7XY    i feel very disappointed with this product, i ...\n",
              "                                            ...                        \n",
              "AZYS62CA5X6YZ         Then you will love this. I actually like this ...\n",
              "AZZ5ASC403N74         These cookies are pretty average chocolate coo...\n",
              "AZZQLMNX239VT         I ordered this screen so I can keep my French ...\n",
              "AZZV9PDNMCOZW         This is a great addition to my Torani syrup. I...\n",
              "AZZY649VYAHQS         All of the chocolate arrived with out melting ...\n",
              "Name: text, Length: 13010, dtype: object"
            ]
          },
          "metadata": {},
          "execution_count": 18
        }
      ]
    },
    {
      "cell_type": "code",
      "metadata": {
        "id": "L7rf40bDano0",
        "colab": {
          "base_uri": "https://localhost:8080/"
        },
        "outputId": "20f15850-24c0-4d26-e52e-dc251483ba7c"
      },
      "source": [
        "grouped_by_title = grouped_by_title.str.lower()\n",
        "grouped_by_title = grouped_by_title.str.strip()\n",
        "grouped_by_title = grouped_by_title.str.replace('[^\\w\\s]', '')\n",
        "grouped_by_title = grouped_by_title.str.replace('\\d', '')\n",
        "grouped_by_title = grouped_by_title.str.replace('\\\\n', '')\n",
        "grouped_by_title = grouped_by_title.dropna()\n",
        "\n",
        "grouped_by_title"
      ],
      "execution_count": null,
      "outputs": [
        {
          "output_type": "execute_result",
          "data": {
            "text/plain": [
              "user_id\n",
              "#oc-R14VLCY75KIBSB    i purchased two blends from this company brook...\n",
              "#oc-R1730HL4795MHX    ordered  boxes  different flavors have had the...\n",
              "#oc-R1HFLTAYDCLBBP    essentia water tastes great and its price is i...\n",
              "#oc-R1OTWY0232JAF9    i confess i purchased this variety box mostly ...\n",
              "#oc-R1WIBE7UA1Y7XY    i feel very disappointed with this product i w...\n",
              "                                            ...                        \n",
              "AZYS62CA5X6YZ         then you will love this i actually like this b...\n",
              "AZZ5ASC403N74         these cookies are pretty average chocolate coo...\n",
              "AZZQLMNX239VT         i ordered this screen so i can keep my french ...\n",
              "AZZV9PDNMCOZW         this is a great addition to my torani syrup it...\n",
              "AZZY649VYAHQS         all of the chocolate arrived with out melting ...\n",
              "Name: text, Length: 13010, dtype: object"
            ]
          },
          "metadata": {},
          "execution_count": 19
        }
      ]
    },
    {
      "cell_type": "code",
      "metadata": {
        "id": "6-AqoMjNanmB",
        "colab": {
          "base_uri": "https://localhost:8080/"
        },
        "outputId": "9cb0c010-7707-4795-b1f2-efb0effb411d"
      },
      "source": [
        "import nltk\n",
        "nltk.download('punkt')\n",
        "tokenized = grouped_by_title.apply(nltk.word_tokenize)"
      ],
      "execution_count": null,
      "outputs": [
        {
          "output_type": "stream",
          "name": "stdout",
          "text": [
            "[nltk_data] Downloading package punkt to /root/nltk_data...\n",
            "[nltk_data]   Package punkt is already up-to-date!\n"
          ]
        }
      ]
    },
    {
      "cell_type": "code",
      "metadata": {
        "id": "u0bYxhZPanjr",
        "colab": {
          "base_uri": "https://localhost:8080/"
        },
        "outputId": "6d909d12-651e-4100-9d09-4bf79164c571"
      },
      "source": [
        "tokenized"
      ],
      "execution_count": null,
      "outputs": [
        {
          "output_type": "execute_result",
          "data": {
            "text/plain": [
              "user_id\n",
              "#oc-R14VLCY75KIBSB    [i, purchased, two, blends, from, this, compan...\n",
              "#oc-R1730HL4795MHX    [ordered, boxes, different, flavors, have, had...\n",
              "#oc-R1HFLTAYDCLBBP    [essentia, water, tastes, great, and, its, pri...\n",
              "#oc-R1OTWY0232JAF9    [i, confess, i, purchased, this, variety, box,...\n",
              "#oc-R1WIBE7UA1Y7XY    [i, feel, very, disappointed, with, this, prod...\n",
              "                                            ...                        \n",
              "AZYS62CA5X6YZ         [then, you, will, love, this, i, actually, lik...\n",
              "AZZ5ASC403N74         [these, cookies, are, pretty, average, chocola...\n",
              "AZZQLMNX239VT         [i, ordered, this, screen, so, i, can, keep, m...\n",
              "AZZV9PDNMCOZW         [this, is, a, great, addition, to, my, torani,...\n",
              "AZZY649VYAHQS         [all, of, the, chocolate, arrived, with, out, ...\n",
              "Name: text, Length: 13010, dtype: object"
            ]
          },
          "metadata": {},
          "execution_count": 21
        }
      ]
    },
    {
      "cell_type": "code",
      "metadata": {
        "id": "Ik5B46_jang9"
      },
      "source": [
        "all_words = tokenized.sum()\n"
      ],
      "execution_count": null,
      "outputs": []
    },
    {
      "cell_type": "code",
      "metadata": {
        "id": "4XheJ-KAb5xm",
        "colab": {
          "base_uri": "https://localhost:8080/"
        },
        "outputId": "af1f8aa8-c0d3-42dc-d8a8-ada0b49160b0"
      },
      "source": [
        "text = nltk.Text(all_words)\n",
        "\n",
        "text"
      ],
      "execution_count": null,
      "outputs": [
        {
          "output_type": "execute_result",
          "data": {
            "text/plain": [
              "<Text: i purchased two blends from this company brooklyn...>"
            ]
          },
          "metadata": {},
          "execution_count": 23
        }
      ]
    },
    {
      "cell_type": "markdown",
      "metadata": {
        "id": "x24hmzsdb9z_"
      },
      "source": [
        ""
      ]
    },
    {
      "cell_type": "code",
      "metadata": {
        "id": "t7S_wiLhb9mS",
        "colab": {
          "base_uri": "https://localhost:8080/"
        },
        "outputId": "0066578b-5fc4-42a7-c76c-977062917985"
      },
      "source": [
        "text.concordance('boy', lines=20)"
      ],
      "execution_count": null,
      "outputs": [
        {
          "output_type": "stream",
          "name": "stdout",
          "text": [
            "Displaying 20 of 60 matches:\n",
            "as breaking off pieces for the little boy i nanny i couldnt resist and popped o\n",
            " out and luckily found this on amazon boy am i glad i did the flavor is awesome\n",
            "i thought maybe this would be okbr br boy was i wrong this stuff is now on my l\n",
            "re all aboutbr br buy this tea my big boy lbs was put on an allmeat diet and he\n",
            " making of one down to the letter and boy oh boy not only was my husband thrill\n",
            " of one down to the letter and boy oh boy not only was my husband thrilled i no\n",
            "eat for my son who loves cotton candy boy was he disapointed after crushing the\n",
            "me vet after my year old russian blue boy developed chrystals in hir urine and \n",
            "had to be as good as their others and boy was i right i made the mix into cupca\n",
            "ouple of days i immedately fed it and boy did it come alive fast and furious i \n",
            "the pet waste biobag can be tossed in boy i am glad i called the city before pu\n",
            "ws because how could they screw it up boy was i wrong the packaging was my firs\n",
            " for him after about two days the old boy had some real pep in his step he does\n",
            "ry is my favorite when we adopted our boy nemo he was a few pounds overweight a\n",
            "center yes theyre chewy and gooey and boy are they sweet a bit too sweet for my\n",
            "ouse and arriving via the brown truck boy was i wrong they were just like the o\n",
            "s not last long but it makes my buddy boy happy ruby red is just great and i wi\n",
            "t i might singe my nose hairs because boy is it strong you people who drink it \n",
            "re like box since it was a packbr but boy was i wrong if you have old teeth the\n",
            "mell and a delight to give to my good boy i really enjoy this coffee it has a n\n"
          ]
        }
      ]
    },
    {
      "cell_type": "code",
      "metadata": {
        "id": "z3NELL3cb9kL",
        "colab": {
          "base_uri": "https://localhost:8080/"
        },
        "outputId": "c82ccd05-ff89-4c11-9dfc-947793df5477"
      },
      "source": [
        "text.similar('boy')"
      ],
      "execution_count": null,
      "outputs": [
        {
          "output_type": "stream",
          "name": "stdout",
          "text": [
            "i it there that he this flavor she and but so one shipping amazon dog\n",
            "they taste salt price when\n"
          ]
        }
      ]
    },
    {
      "cell_type": "code",
      "metadata": {
        "id": "g89mt34bcMmt",
        "colab": {
          "base_uri": "https://localhost:8080/"
        },
        "outputId": "cfef5677-2255-4b45-c4f8-c2e0d6e1855b"
      },
      "source": [
        "text.concordance('girl', lines=20)"
      ],
      "execution_count": null,
      "outputs": [
        {
          "output_type": "stream",
          "name": "stdout",
          "text": [
            "Displaying 20 of 64 matches:\n",
            "fetti cake for a bridal shower for a girl whose colors were hot pink and black\n",
            "lly i am a made from scratch kind of girl but wanted to try these flavors and \n",
            "family out entertain teen girls with girl talk time and go go go thanks to the\n",
            "s food to be a lifesaver for her old girl my husband and i enjoy trying variou\n",
            " trailers were coming over i had the girl with three boobs from the freak show\n",
            " by good people my overweight little girl not only got down to a healthy size \n",
            "hearing about this product on hungry girl i love peanut butter but not all tha\n",
            "ht this toy a year ago for my golden girl who would wolf down her food and for\n",
            "s get about cup dry per daybr the yo girl gets about cup dry per daybr br i th\n",
            "y store dry its the only reason baby girl is still alive if you cant afford he\n",
            "ven though shes getting to be an old girl shes amazingly healthy i used to use\n",
            "tinky in the last weeks with the new girl i was steadily switching over her fr\n",
            "witch to natural balance lid for the girl and within days of switching foods i\n",
            "pping like this since i was a little girl other brands have been artifical and\n",
            " easy to snack a hold me over to the girl scouts have their tag a longs again \n",
            "ut the taste of the food and even my girl who we used to have to push to finis\n",
            "plusthe grain free food made my baby girl look so healthy and shinybr alsosinc\n",
            " up he was an eater fat and a pig my girl on the other had had always been ver\n",
            " grades thing he enjoyed the cake my girl has loved these for two years when t\n",
            " this is one of the few treats wilhi girl enjoys i am italian so i am used to \n"
          ]
        }
      ]
    },
    {
      "cell_type": "code",
      "metadata": {
        "id": "S9W03bN0cMf4",
        "colab": {
          "base_uri": "https://localhost:8080/"
        },
        "outputId": "88fd6e94-fa67-41bc-8558-7359aedfc8a8"
      },
      "source": [
        "text.similar('girl')"
      ],
      "execution_count": null,
      "outputs": [
        {
          "output_type": "stream",
          "name": "stdout",
          "text": [
            "dog coffee time one flavor taste tea food dogs cat product door price\n",
            "daughter mouth stuff packets wife and but\n"
          ]
        }
      ]
    },
    {
      "cell_type": "markdown",
      "metadata": {
        "id": "YBrNhYXlcT0r"
      },
      "source": [
        ""
      ]
    },
    {
      "cell_type": "code",
      "metadata": {
        "id": "UxF0A7_7cUPK",
        "colab": {
          "base_uri": "https://localhost:8080/"
        },
        "outputId": "10a225e7-38a5-480e-dbae-a39d2b4f7d71"
      },
      "source": [
        "text.common_contexts(['boy', 'girl'])"
      ],
      "execution_count": null,
      "outputs": [
        {
          "output_type": "stream",
          "name": "stdout",
          "text": [
            "little_i\n"
          ]
        }
      ]
    },
    {
      "cell_type": "markdown",
      "metadata": {
        "id": "Q9Y9oaxjdKXn"
      },
      "source": [
        ""
      ]
    },
    {
      "cell_type": "markdown",
      "metadata": {
        "id": "kzLYmPOGd3NV"
      },
      "source": [
        "##CANTIDAD DE PALABRAS VS CANTIDAD DE PALABRAS UNICAS"
      ]
    },
    {
      "cell_type": "code",
      "metadata": {
        "id": "Tut1rDWgdDfG",
        "colab": {
          "base_uri": "https://localhost:8080/"
        },
        "outputId": "b5bb573a-967e-4c0a-94f6-974d02a41046"
      },
      "source": [
        "len(text), len(set(text))"
      ],
      "execution_count": null,
      "outputs": [
        {
          "output_type": "execute_result",
          "data": {
            "text/plain": [
              "(956846, 29310)"
            ]
          },
          "metadata": {},
          "execution_count": 16
        }
      ]
    },
    {
      "cell_type": "markdown",
      "metadata": {
        "id": "90_ChnS_d1Ab"
      },
      "source": [
        "##CUANTIFICANDO LA RIQUEZA LEXICA\n",
        "\n",
        "\n"
      ]
    },
    {
      "cell_type": "code",
      "metadata": {
        "id": "BsPHmRSvdJnW",
        "colab": {
          "base_uri": "https://localhost:8080/"
        },
        "outputId": "3bc574fe-1b18-4127-a5e4-79be8bebf88f"
      },
      "source": [
        "len(set(text)) / len(text)"
      ],
      "execution_count": null,
      "outputs": [
        {
          "output_type": "execute_result",
          "data": {
            "text/plain": [
              "0.030631888517065442"
            ]
          },
          "metadata": {},
          "execution_count": 17
        }
      ]
    }
  ]
}